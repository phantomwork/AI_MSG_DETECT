{
 "cells": [
  {
   "cell_type": "code",
   "execution_count": 1,
   "id": "475ec2c3",
   "metadata": {
    "_cell_guid": "b1076dfc-b9ad-4769-8c92-a6c4dae69d19",
    "_uuid": "8f2839f25d086af736a60e9eeb907d3b93b6e0e5",
    "execution": {
     "iopub.execute_input": "2023-12-20T10:05:06.980748Z",
     "iopub.status.busy": "2023-12-20T10:05:06.980360Z",
     "iopub.status.idle": "2023-12-20T10:05:08.753743Z",
     "shell.execute_reply": "2023-12-20T10:05:08.752679Z"
    },
    "papermill": {
     "duration": 1.780082,
     "end_time": "2023-12-20T10:05:08.755989",
     "exception": false,
     "start_time": "2023-12-20T10:05:06.975907",
     "status": "completed"
    },
    "tags": []
   },
   "outputs": [],
   "source": [
    "import regex as re\n",
    "import numpy as np\n",
    "import pandas as pd\n",
    "from sklearn.ensemble import VotingClassifier\n",
    "from sklearn.linear_model import SGDClassifier\n",
    "from sklearn.linear_model import LogisticRegression\n",
    "from sklearn.feature_extraction.text import TfidfVectorizer"
   ]
  },
  {
   "cell_type": "code",
   "execution_count": 2,
   "id": "cb290bf7",
   "metadata": {
    "execution": {
     "iopub.execute_input": "2023-12-20T10:05:08.763883Z",
     "iopub.status.busy": "2023-12-20T10:05:08.763326Z",
     "iopub.status.idle": "2023-12-20T10:05:11.067398Z",
     "shell.execute_reply": "2023-12-20T10:05:11.066714Z"
    },
    "papermill": {
     "duration": 2.309688,
     "end_time": "2023-12-20T10:05:11.069329",
     "exception": false,
     "start_time": "2023-12-20T10:05:08.759641",
     "status": "completed"
    },
    "tags": []
   },
   "outputs": [],
   "source": [
    "train = pd.read_csv('/kaggle/input/train-v2-drcat-02-csv/train_v2_drcat_02.csv')\n",
    "test = pd.read_csv('/kaggle/input/llm-detect-ai-generated-text/test_essays.csv')"
   ]
  },
  {
   "cell_type": "code",
   "execution_count": 3,
   "id": "2d48b3df",
   "metadata": {
    "execution": {
     "iopub.execute_input": "2023-12-20T10:05:11.076502Z",
     "iopub.status.busy": "2023-12-20T10:05:11.076022Z",
     "iopub.status.idle": "2023-12-20T10:05:11.113532Z",
     "shell.execute_reply": "2023-12-20T10:05:11.112651Z"
    },
    "papermill": {
     "duration": 0.04361,
     "end_time": "2023-12-20T10:05:11.115814",
     "exception": false,
     "start_time": "2023-12-20T10:05:11.072204",
     "status": "completed"
    },
    "tags": []
   },
   "outputs": [
    {
     "data": {
      "text/plain": [
       "label\n",
       "0    14250\n",
       "1    14200\n",
       "Name: count, dtype: int64"
      ]
     },
     "execution_count": 3,
     "metadata": {},
     "output_type": "execute_result"
    }
   ],
   "source": [
    "train_ = train[train.RDizzl3_seven == False].reset_index(drop=True)\n",
    "train_ = train[train[\"label\"]==1].sample(8000, random_state=8)\n",
    "train = train[train.RDizzl3_seven == True].reset_index(drop=True)\n",
    "train = pd.concat([train, train_])\n",
    "train['label'].value_counts()"
   ]
  },
  {
   "cell_type": "markdown",
   "id": "9c83f213",
   "metadata": {
    "papermill": {
     "duration": 0.002393,
     "end_time": "2023-12-20T10:05:11.121104",
     "exception": false,
     "start_time": "2023-12-20T10:05:11.118711",
     "status": "completed"
    },
    "tags": []
   },
   "source": [
    "# Data Preprocessing"
   ]
  },
  {
   "cell_type": "code",
   "execution_count": 4,
   "id": "623fddbd",
   "metadata": {
    "execution": {
     "iopub.execute_input": "2023-12-20T10:05:11.127373Z",
     "iopub.status.busy": "2023-12-20T10:05:11.127099Z",
     "iopub.status.idle": "2023-12-20T10:05:15.030680Z",
     "shell.execute_reply": "2023-12-20T10:05:15.029744Z"
    },
    "papermill": {
     "duration": 3.909079,
     "end_time": "2023-12-20T10:05:15.032802",
     "exception": false,
     "start_time": "2023-12-20T10:05:11.123723",
     "status": "completed"
    },
    "tags": []
   },
   "outputs": [
    {
     "name": "stdout",
     "output_type": "stream",
     "text": [
      "CPU times: user 3.88 s, sys: 9.55 ms, total: 3.89 s\n",
      "Wall time: 3.9 s\n"
     ]
    }
   ],
   "source": [
    "%%time\n",
    "def normalize(text):\n",
    "    # Replace with whitespaces\n",
    "    text = text.replace(r\"\\n\", r\" \")\n",
    "    text = text.replace(r\"\\r\", r\" \")\n",
    "    # Drop puntuation\n",
    "    text = re.sub(r\"\\p{P}\", \" \", text)\n",
    "    # Remove extra spaces \n",
    "    text = re.sub(r\"\\s+\", r\" \", text)\n",
    "    # Remove leading and trailing whitespace\n",
    "    text = text.strip()\n",
    "    return text\n",
    "\n",
    "train['text'] = train['text'].apply(lambda x: normalize(x))\n",
    "test['text'] = test['text'].apply(lambda x: normalize(x))"
   ]
  },
  {
   "cell_type": "code",
   "execution_count": 5,
   "id": "95d89294",
   "metadata": {
    "execution": {
     "iopub.execute_input": "2023-12-20T10:05:15.041054Z",
     "iopub.status.busy": "2023-12-20T10:05:15.040291Z",
     "iopub.status.idle": "2023-12-20T10:05:31.676867Z",
     "shell.execute_reply": "2023-12-20T10:05:31.676166Z"
    },
    "papermill": {
     "duration": 16.642209,
     "end_time": "2023-12-20T10:05:31.678471",
     "exception": false,
     "start_time": "2023-12-20T10:05:15.036262",
     "status": "completed"
    },
    "tags": []
   },
   "outputs": [
    {
     "name": "stdout",
     "output_type": "stream",
     "text": [
      "CPU times: user 16.6 s, sys: 5.03 ms, total: 16.6 s\n",
      "Wall time: 16.6 s\n"
     ]
    },
    {
     "data": {
      "text/plain": [
       "<28453x3 sparse matrix of type '<class 'numpy.float64'>'\n",
       "\twith 3 stored elements in Compressed Sparse Row format>"
      ]
     },
     "execution_count": 5,
     "metadata": {},
     "output_type": "execute_result"
    }
   ],
   "source": [
    "%%time\n",
    "df = pd.concat([train['text'], test['text']])\n",
    "\n",
    "vectorizer = TfidfVectorizer(ngram_range=(3, 4),\n",
    "                             tokenizer=lambda x: re.findall(r'[^\\W]+', x),\n",
    "                             token_pattern=None,\n",
    "                             strip_accents='unicode',\n",
    "                             )\n",
    "\n",
    "vectorizer = vectorizer.fit(test['text'])\n",
    "X = vectorizer.transform(df)\n",
    "X"
   ]
  },
  {
   "cell_type": "markdown",
   "id": "c3978b99",
   "metadata": {
    "papermill": {
     "duration": 0.002869,
     "end_time": "2023-12-20T10:05:31.684514",
     "exception": false,
     "start_time": "2023-12-20T10:05:31.681645",
     "status": "completed"
    },
    "tags": []
   },
   "source": [
    "# Model-Training"
   ]
  },
  {
   "cell_type": "code",
   "execution_count": 6,
   "id": "6e1745c4",
   "metadata": {
    "execution": {
     "iopub.execute_input": "2023-12-20T10:05:31.693401Z",
     "iopub.status.busy": "2023-12-20T10:05:31.691524Z",
     "iopub.status.idle": "2023-12-20T10:05:31.739818Z",
     "shell.execute_reply": "2023-12-20T10:05:31.738993Z"
    },
    "papermill": {
     "duration": 0.055382,
     "end_time": "2023-12-20T10:05:31.742779",
     "exception": false,
     "start_time": "2023-12-20T10:05:31.687397",
     "status": "completed"
    },
    "tags": []
   },
   "outputs": [
    {
     "name": "stdout",
     "output_type": "stream",
     "text": [
      "CPU times: user 20.3 ms, sys: 1.98 ms, total: 22.3 ms\n",
      "Wall time: 30.3 ms\n"
     ]
    },
    {
     "data": {
      "text/html": [
       "<style>#sk-container-id-1 {color: black;background-color: white;}#sk-container-id-1 pre{padding: 0;}#sk-container-id-1 div.sk-toggleable {background-color: white;}#sk-container-id-1 label.sk-toggleable__label {cursor: pointer;display: block;width: 100%;margin-bottom: 0;padding: 0.3em;box-sizing: border-box;text-align: center;}#sk-container-id-1 label.sk-toggleable__label-arrow:before {content: \"▸\";float: left;margin-right: 0.25em;color: #696969;}#sk-container-id-1 label.sk-toggleable__label-arrow:hover:before {color: black;}#sk-container-id-1 div.sk-estimator:hover label.sk-toggleable__label-arrow:before {color: black;}#sk-container-id-1 div.sk-toggleable__content {max-height: 0;max-width: 0;overflow: hidden;text-align: left;background-color: #f0f8ff;}#sk-container-id-1 div.sk-toggleable__content pre {margin: 0.2em;color: black;border-radius: 0.25em;background-color: #f0f8ff;}#sk-container-id-1 input.sk-toggleable__control:checked~div.sk-toggleable__content {max-height: 200px;max-width: 100%;overflow: auto;}#sk-container-id-1 input.sk-toggleable__control:checked~label.sk-toggleable__label-arrow:before {content: \"▾\";}#sk-container-id-1 div.sk-estimator input.sk-toggleable__control:checked~label.sk-toggleable__label {background-color: #d4ebff;}#sk-container-id-1 div.sk-label input.sk-toggleable__control:checked~label.sk-toggleable__label {background-color: #d4ebff;}#sk-container-id-1 input.sk-hidden--visually {border: 0;clip: rect(1px 1px 1px 1px);clip: rect(1px, 1px, 1px, 1px);height: 1px;margin: -1px;overflow: hidden;padding: 0;position: absolute;width: 1px;}#sk-container-id-1 div.sk-estimator {font-family: monospace;background-color: #f0f8ff;border: 1px dotted black;border-radius: 0.25em;box-sizing: border-box;margin-bottom: 0.5em;}#sk-container-id-1 div.sk-estimator:hover {background-color: #d4ebff;}#sk-container-id-1 div.sk-parallel-item::after {content: \"\";width: 100%;border-bottom: 1px solid gray;flex-grow: 1;}#sk-container-id-1 div.sk-label:hover label.sk-toggleable__label {background-color: #d4ebff;}#sk-container-id-1 div.sk-serial::before {content: \"\";position: absolute;border-left: 1px solid gray;box-sizing: border-box;top: 0;bottom: 0;left: 50%;z-index: 0;}#sk-container-id-1 div.sk-serial {display: flex;flex-direction: column;align-items: center;background-color: white;padding-right: 0.2em;padding-left: 0.2em;position: relative;}#sk-container-id-1 div.sk-item {position: relative;z-index: 1;}#sk-container-id-1 div.sk-parallel {display: flex;align-items: stretch;justify-content: center;background-color: white;position: relative;}#sk-container-id-1 div.sk-item::before, #sk-container-id-1 div.sk-parallel-item::before {content: \"\";position: absolute;border-left: 1px solid gray;box-sizing: border-box;top: 0;bottom: 0;left: 50%;z-index: -1;}#sk-container-id-1 div.sk-parallel-item {display: flex;flex-direction: column;z-index: 1;position: relative;background-color: white;}#sk-container-id-1 div.sk-parallel-item:first-child::after {align-self: flex-end;width: 50%;}#sk-container-id-1 div.sk-parallel-item:last-child::after {align-self: flex-start;width: 50%;}#sk-container-id-1 div.sk-parallel-item:only-child::after {width: 0;}#sk-container-id-1 div.sk-dashed-wrapped {border: 1px dashed gray;margin: 0 0.4em 0.5em 0.4em;box-sizing: border-box;padding-bottom: 0.4em;background-color: white;}#sk-container-id-1 div.sk-label label {font-family: monospace;font-weight: bold;display: inline-block;line-height: 1.2em;}#sk-container-id-1 div.sk-label-container {text-align: center;}#sk-container-id-1 div.sk-container {/* jupyter's `normalize.less` sets `[hidden] { display: none; }` but bootstrap.min.css set `[hidden] { display: none !important; }` so we also need the `!important` here to be able to override the default hidden behavior on the sphinx rendered scikit-learn.org. See: https://github.com/scikit-learn/scikit-learn/issues/21755 */display: inline-block !important;position: relative;}#sk-container-id-1 div.sk-text-repr-fallback {display: none;}</style><div id=\"sk-container-id-1\" class=\"sk-top-container\"><div class=\"sk-text-repr-fallback\"><pre>VotingClassifier(estimators=[(&#x27;lr&#x27;, LogisticRegression()),\n",
       "                             (&#x27;sgd&#x27;,\n",
       "                              SGDClassifier(loss=&#x27;modified_huber&#x27;,\n",
       "                                            max_iter=5000, random_state=42))],\n",
       "                 voting=&#x27;soft&#x27;, weights=[0.01, 0.99])</pre><b>In a Jupyter environment, please rerun this cell to show the HTML representation or trust the notebook. <br />On GitHub, the HTML representation is unable to render, please try loading this page with nbviewer.org.</b></div><div class=\"sk-container\" hidden><div class=\"sk-item sk-dashed-wrapped\"><div class=\"sk-label-container\"><div class=\"sk-label sk-toggleable\"><input class=\"sk-toggleable__control sk-hidden--visually\" id=\"sk-estimator-id-1\" type=\"checkbox\" ><label for=\"sk-estimator-id-1\" class=\"sk-toggleable__label sk-toggleable__label-arrow\">VotingClassifier</label><div class=\"sk-toggleable__content\"><pre>VotingClassifier(estimators=[(&#x27;lr&#x27;, LogisticRegression()),\n",
       "                             (&#x27;sgd&#x27;,\n",
       "                              SGDClassifier(loss=&#x27;modified_huber&#x27;,\n",
       "                                            max_iter=5000, random_state=42))],\n",
       "                 voting=&#x27;soft&#x27;, weights=[0.01, 0.99])</pre></div></div></div><div class=\"sk-parallel\"><div class=\"sk-parallel-item\"><div class=\"sk-item\"><div class=\"sk-label-container\"><div class=\"sk-label sk-toggleable\"><label>lr</label></div></div><div class=\"sk-serial\"><div class=\"sk-item\"><div class=\"sk-estimator sk-toggleable\"><input class=\"sk-toggleable__control sk-hidden--visually\" id=\"sk-estimator-id-2\" type=\"checkbox\" ><label for=\"sk-estimator-id-2\" class=\"sk-toggleable__label sk-toggleable__label-arrow\">LogisticRegression</label><div class=\"sk-toggleable__content\"><pre>LogisticRegression()</pre></div></div></div></div></div></div><div class=\"sk-parallel-item\"><div class=\"sk-item\"><div class=\"sk-label-container\"><div class=\"sk-label sk-toggleable\"><label>sgd</label></div></div><div class=\"sk-serial\"><div class=\"sk-item\"><div class=\"sk-estimator sk-toggleable\"><input class=\"sk-toggleable__control sk-hidden--visually\" id=\"sk-estimator-id-3\" type=\"checkbox\" ><label for=\"sk-estimator-id-3\" class=\"sk-toggleable__label sk-toggleable__label-arrow\">SGDClassifier</label><div class=\"sk-toggleable__content\"><pre>SGDClassifier(loss=&#x27;modified_huber&#x27;, max_iter=5000, random_state=42)</pre></div></div></div></div></div></div></div></div></div></div>"
      ],
      "text/plain": [
       "VotingClassifier(estimators=[('lr', LogisticRegression()),\n",
       "                             ('sgd',\n",
       "                              SGDClassifier(loss='modified_huber',\n",
       "                                            max_iter=5000, random_state=42))],\n",
       "                 voting='soft', weights=[0.01, 0.99])"
      ]
     },
     "execution_count": 6,
     "metadata": {},
     "output_type": "execute_result"
    }
   ],
   "source": [
    "%%time\n",
    "lr_model = LogisticRegression()\n",
    "sgd_model = SGDClassifier(max_iter=5000, loss=\"modified_huber\", random_state=42)\n",
    "\n",
    "ensemble = VotingClassifier(estimators=[('lr', lr_model),\n",
    "                                        ('sgd', sgd_model),\n",
    "                                       ],\n",
    "                            weights=[0.01, 0.99],\n",
    "                            voting='soft'\n",
    "                           )\n",
    "ensemble.fit(X[:train.shape[0]], train.label)"
   ]
  },
  {
   "cell_type": "code",
   "execution_count": 7,
   "id": "d048389f",
   "metadata": {
    "execution": {
     "iopub.execute_input": "2023-12-20T10:05:31.750544Z",
     "iopub.status.busy": "2023-12-20T10:05:31.750195Z",
     "iopub.status.idle": "2023-12-20T10:05:31.759072Z",
     "shell.execute_reply": "2023-12-20T10:05:31.758194Z"
    },
    "papermill": {
     "duration": 0.014897,
     "end_time": "2023-12-20T10:05:31.760906",
     "exception": false,
     "start_time": "2023-12-20T10:05:31.746009",
     "status": "completed"
    },
    "tags": []
   },
   "outputs": [],
   "source": [
    "preds_test = ensemble.predict_proba(X[train.shape[0]:])[:, 1]\n",
    "pd.DataFrame({'id':test[\"id\"], 'generated':preds_test}).to_csv('submission.csv', index=False)"
   ]
  }
 ],
 "metadata": {
  "kaggle": {
   "accelerator": "none",
   "dataSources": [
    {
     "databundleVersionId": 6888007,
     "sourceId": 61542,
     "sourceType": "competition"
    },
    {
     "datasetId": 4166484,
     "sourceId": 7202521,
     "sourceType": "datasetVersion"
    },
    {
     "datasetId": 4163393,
     "sourceId": 7198494,
     "sourceType": "datasetVersion"
    },
    {
     "datasetId": 4166523,
     "sourceId": 7202572,
     "sourceType": "datasetVersion"
    },
    {
     "datasetId": 4166560,
     "sourceId": 7202633,
     "sourceType": "datasetVersion"
    },
    {
     "datasetId": 4184739,
     "sourceId": 7228308,
     "sourceType": "datasetVersion"
    }
   ],
   "dockerImageVersionId": 30626,
   "isGpuEnabled": false,
   "isInternetEnabled": false,
   "language": "python",
   "sourceType": "notebook"
  },
  "kernelspec": {
   "display_name": "Python 3",
   "language": "python",
   "name": "python3"
  },
  "language_info": {
   "codemirror_mode": {
    "name": "ipython",
    "version": 3
   },
   "file_extension": ".py",
   "mimetype": "text/x-python",
   "name": "python",
   "nbconvert_exporter": "python",
   "pygments_lexer": "ipython3",
   "version": "3.10.12"
  },
  "papermill": {
   "default_parameters": {},
   "duration": 27.870686,
   "end_time": "2023-12-20T10:05:32.284872",
   "environment_variables": {},
   "exception": null,
   "input_path": "__notebook__.ipynb",
   "output_path": "__notebook__.ipynb",
   "parameters": {},
   "start_time": "2023-12-20T10:05:04.414186",
   "version": "2.4.0"
  }
 },
 "nbformat": 4,
 "nbformat_minor": 5
}
