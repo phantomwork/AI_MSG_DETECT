{
 "cells": [
  {
   "cell_type": "code",
   "execution_count": 1,
   "id": "7654eab5",
   "metadata": {
    "_cell_guid": "b1076dfc-b9ad-4769-8c92-a6c4dae69d19",
    "_uuid": "8f2839f25d086af736a60e9eeb907d3b93b6e0e5",
    "execution": {
     "iopub.execute_input": "2023-12-18T08:35:05.463546Z",
     "iopub.status.busy": "2023-12-18T08:35:05.462876Z",
     "iopub.status.idle": "2023-12-18T08:35:05.468137Z",
     "shell.execute_reply": "2023-12-18T08:35:05.467373Z"
    },
    "papermill": {
     "duration": 0.020797,
     "end_time": "2023-12-18T08:35:05.470123",
     "exception": false,
     "start_time": "2023-12-18T08:35:05.449326",
     "status": "completed"
    },
    "tags": []
   },
   "outputs": [],
   "source": [
    "# This Python 3 environment comes with many helpful analytics libraries installed\n",
    "# It is defined by the kaggle/python Docker image: https://github.com/kaggle/docker-python\n",
    "# For example, here's several helpful packages to load\n",
    "\n",
    "#import numpy as np # linear algebra\n",
    "#import pandas as pd # data processing, CSV file I/O (e.g. pd.read_csv)\n",
    "\n",
    "# Input data files are available in the read-only \"../input/\" directory\n",
    "# For example, running this (by clicking run or pressing Shift+Enter) will list all files under the input directory\n",
    "\n",
    "#import os\n",
    "#for dirname, _, filenames in os.walk('/kaggle/input'):\n",
    "    #for filename in filenames:\n",
    "       # print(os.path.join(dirname, filename))\n",
    "\n",
    "# You can write up to 20GB to the current directory (/kaggle/working/) that gets preserved as output when you create a version using \"Save & Run All\" \n",
    "# You can also write temporary files to /kaggle/temp/, but they won't be saved outside of the current session"
   ]
  },
  {
   "cell_type": "code",
   "execution_count": 2,
   "id": "81613145",
   "metadata": {
    "execution": {
     "iopub.execute_input": "2023-12-18T08:35:05.494391Z",
     "iopub.status.busy": "2023-12-18T08:35:05.494143Z",
     "iopub.status.idle": "2023-12-18T08:35:20.413674Z",
     "shell.execute_reply": "2023-12-18T08:35:20.412886Z"
    },
    "papermill": {
     "duration": 14.934137,
     "end_time": "2023-12-18T08:35:20.416001",
     "exception": false,
     "start_time": "2023-12-18T08:35:05.481864",
     "status": "completed"
    },
    "tags": []
   },
   "outputs": [
    {
     "name": "stderr",
     "output_type": "stream",
     "text": [
      "/opt/conda/lib/python3.10/site-packages/scipy/__init__.py:146: UserWarning: A NumPy version >=1.16.5 and <1.23.0 is required for this version of SciPy (detected version 1.24.3\n",
      "  warnings.warn(f\"A NumPy version >={np_minversion} and <{np_maxversion}\"\n"
     ]
    }
   ],
   "source": [
    "# Import Libraries\n",
    "import pandas as pd\n",
    "import numpy as np\n",
    "import seaborn as sns\n",
    "from sklearn.model_selection import train_test_split\n",
    "import tensorflow as tf\n",
    "from tensorflow import keras\n",
    "import tensorflow_text as text  # Registers the ops.\n",
    "import tensorflow_hub as hub\n",
    "import matplotlib.pyplot as plt"
   ]
  },
  {
   "cell_type": "code",
   "execution_count": 3,
   "id": "88905493",
   "metadata": {
    "execution": {
     "iopub.execute_input": "2023-12-18T08:35:20.439913Z",
     "iopub.status.busy": "2023-12-18T08:35:20.439363Z",
     "iopub.status.idle": "2023-12-18T08:35:20.443461Z",
     "shell.execute_reply": "2023-12-18T08:35:20.442498Z"
    },
    "papermill": {
     "duration": 0.017906,
     "end_time": "2023-12-18T08:35:20.445320",
     "exception": false,
     "start_time": "2023-12-18T08:35:20.427414",
     "status": "completed"
    },
    "tags": []
   },
   "outputs": [],
   "source": [
    "#!pip install numpy==1.22.4"
   ]
  },
  {
   "cell_type": "code",
   "execution_count": 4,
   "id": "ef5efcf3",
   "metadata": {
    "execution": {
     "iopub.execute_input": "2023-12-18T08:35:20.468456Z",
     "iopub.status.busy": "2023-12-18T08:35:20.468186Z",
     "iopub.status.idle": "2023-12-18T08:35:20.571322Z",
     "shell.execute_reply": "2023-12-18T08:35:20.570516Z"
    },
    "papermill": {
     "duration": 0.116995,
     "end_time": "2023-12-18T08:35:20.573442",
     "exception": false,
     "start_time": "2023-12-18T08:35:20.456447",
     "status": "completed"
    },
    "tags": []
   },
   "outputs": [
    {
     "data": {
      "text/html": [
       "<div>\n",
       "<style scoped>\n",
       "    .dataframe tbody tr th:only-of-type {\n",
       "        vertical-align: middle;\n",
       "    }\n",
       "\n",
       "    .dataframe tbody tr th {\n",
       "        vertical-align: top;\n",
       "    }\n",
       "\n",
       "    .dataframe thead th {\n",
       "        text-align: right;\n",
       "    }\n",
       "</style>\n",
       "<table border=\"1\" class=\"dataframe\">\n",
       "  <thead>\n",
       "    <tr style=\"text-align: right;\">\n",
       "      <th></th>\n",
       "      <th>id</th>\n",
       "      <th>prompt_id</th>\n",
       "      <th>text</th>\n",
       "      <th>generated</th>\n",
       "    </tr>\n",
       "  </thead>\n",
       "  <tbody>\n",
       "    <tr>\n",
       "      <th>0</th>\n",
       "      <td>0059830c</td>\n",
       "      <td>0</td>\n",
       "      <td>Cars. Cars have been around since they became ...</td>\n",
       "      <td>0</td>\n",
       "    </tr>\n",
       "    <tr>\n",
       "      <th>1</th>\n",
       "      <td>005db917</td>\n",
       "      <td>0</td>\n",
       "      <td>Transportation is a large necessity in most co...</td>\n",
       "      <td>0</td>\n",
       "    </tr>\n",
       "    <tr>\n",
       "      <th>2</th>\n",
       "      <td>008f63e3</td>\n",
       "      <td>0</td>\n",
       "      <td>\"America's love affair with it's vehicles seem...</td>\n",
       "      <td>0</td>\n",
       "    </tr>\n",
       "    <tr>\n",
       "      <th>3</th>\n",
       "      <td>00940276</td>\n",
       "      <td>0</td>\n",
       "      <td>How often do you ride in a car? Do you drive a...</td>\n",
       "      <td>0</td>\n",
       "    </tr>\n",
       "    <tr>\n",
       "      <th>4</th>\n",
       "      <td>00c39458</td>\n",
       "      <td>0</td>\n",
       "      <td>Cars are a wonderful thing. They are perhaps o...</td>\n",
       "      <td>0</td>\n",
       "    </tr>\n",
       "    <tr>\n",
       "      <th>...</th>\n",
       "      <td>...</td>\n",
       "      <td>...</td>\n",
       "      <td>...</td>\n",
       "      <td>...</td>\n",
       "    </tr>\n",
       "    <tr>\n",
       "      <th>1373</th>\n",
       "      <td>fe6ff9a5</td>\n",
       "      <td>1</td>\n",
       "      <td>There has been a fuss about the Elector Colleg...</td>\n",
       "      <td>0</td>\n",
       "    </tr>\n",
       "    <tr>\n",
       "      <th>1374</th>\n",
       "      <td>ff669174</td>\n",
       "      <td>0</td>\n",
       "      <td>Limiting car usage has many advantages. Such a...</td>\n",
       "      <td>0</td>\n",
       "    </tr>\n",
       "    <tr>\n",
       "      <th>1375</th>\n",
       "      <td>ffa247e0</td>\n",
       "      <td>0</td>\n",
       "      <td>There's a new trend that has been developing f...</td>\n",
       "      <td>0</td>\n",
       "    </tr>\n",
       "    <tr>\n",
       "      <th>1376</th>\n",
       "      <td>ffc237e9</td>\n",
       "      <td>0</td>\n",
       "      <td>As we all know cars are a big part of our soci...</td>\n",
       "      <td>0</td>\n",
       "    </tr>\n",
       "    <tr>\n",
       "      <th>1377</th>\n",
       "      <td>ffe1ca0d</td>\n",
       "      <td>0</td>\n",
       "      <td>Cars have been around since the 1800's and hav...</td>\n",
       "      <td>0</td>\n",
       "    </tr>\n",
       "  </tbody>\n",
       "</table>\n",
       "<p>1378 rows × 4 columns</p>\n",
       "</div>"
      ],
      "text/plain": [
       "            id  prompt_id                                               text  \\\n",
       "0     0059830c          0  Cars. Cars have been around since they became ...   \n",
       "1     005db917          0  Transportation is a large necessity in most co...   \n",
       "2     008f63e3          0  \"America's love affair with it's vehicles seem...   \n",
       "3     00940276          0  How often do you ride in a car? Do you drive a...   \n",
       "4     00c39458          0  Cars are a wonderful thing. They are perhaps o...   \n",
       "...        ...        ...                                                ...   \n",
       "1373  fe6ff9a5          1  There has been a fuss about the Elector Colleg...   \n",
       "1374  ff669174          0  Limiting car usage has many advantages. Such a...   \n",
       "1375  ffa247e0          0  There's a new trend that has been developing f...   \n",
       "1376  ffc237e9          0  As we all know cars are a big part of our soci...   \n",
       "1377  ffe1ca0d          0  Cars have been around since the 1800's and hav...   \n",
       "\n",
       "      generated  \n",
       "0             0  \n",
       "1             0  \n",
       "2             0  \n",
       "3             0  \n",
       "4             0  \n",
       "...         ...  \n",
       "1373          0  \n",
       "1374          0  \n",
       "1375          0  \n",
       "1376          0  \n",
       "1377          0  \n",
       "\n",
       "[1378 rows x 4 columns]"
      ]
     },
     "execution_count": 4,
     "metadata": {},
     "output_type": "execute_result"
    }
   ],
   "source": [
    "train_essay = pd.read_csv(\"/kaggle/input/llm-detect-ai-generated-text/train_essays.csv\")\n",
    "train_essay"
   ]
  },
  {
   "cell_type": "code",
   "execution_count": 5,
   "id": "d5269042",
   "metadata": {
    "execution": {
     "iopub.execute_input": "2023-12-18T08:35:20.598434Z",
     "iopub.status.busy": "2023-12-18T08:35:20.598161Z",
     "iopub.status.idle": "2023-12-18T08:35:20.609527Z",
     "shell.execute_reply": "2023-12-18T08:35:20.608710Z"
    },
    "papermill": {
     "duration": 0.026105,
     "end_time": "2023-12-18T08:35:20.611480",
     "exception": false,
     "start_time": "2023-12-18T08:35:20.585375",
     "status": "completed"
    },
    "tags": []
   },
   "outputs": [
    {
     "data": {
      "text/html": [
       "<div>\n",
       "<style scoped>\n",
       "    .dataframe tbody tr th:only-of-type {\n",
       "        vertical-align: middle;\n",
       "    }\n",
       "\n",
       "    .dataframe tbody tr th {\n",
       "        vertical-align: top;\n",
       "    }\n",
       "\n",
       "    .dataframe thead th {\n",
       "        text-align: right;\n",
       "    }\n",
       "</style>\n",
       "<table border=\"1\" class=\"dataframe\">\n",
       "  <thead>\n",
       "    <tr style=\"text-align: right;\">\n",
       "      <th></th>\n",
       "      <th>id</th>\n",
       "      <th>prompt_id</th>\n",
       "      <th>text</th>\n",
       "    </tr>\n",
       "  </thead>\n",
       "  <tbody>\n",
       "    <tr>\n",
       "      <th>0</th>\n",
       "      <td>0000aaaa</td>\n",
       "      <td>2</td>\n",
       "      <td>Aaa bbb ccc.</td>\n",
       "    </tr>\n",
       "    <tr>\n",
       "      <th>1</th>\n",
       "      <td>1111bbbb</td>\n",
       "      <td>3</td>\n",
       "      <td>Bbb ccc ddd.</td>\n",
       "    </tr>\n",
       "    <tr>\n",
       "      <th>2</th>\n",
       "      <td>2222cccc</td>\n",
       "      <td>4</td>\n",
       "      <td>CCC ddd eee.</td>\n",
       "    </tr>\n",
       "  </tbody>\n",
       "</table>\n",
       "</div>"
      ],
      "text/plain": [
       "         id  prompt_id          text\n",
       "0  0000aaaa          2  Aaa bbb ccc.\n",
       "1  1111bbbb          3  Bbb ccc ddd.\n",
       "2  2222cccc          4  CCC ddd eee."
      ]
     },
     "execution_count": 5,
     "metadata": {},
     "output_type": "execute_result"
    }
   ],
   "source": [
    "test_essay = pd.read_csv(\"/kaggle/input/llm-detect-ai-generated-text/test_essays.csv\")\n",
    "test_essay"
   ]
  },
  {
   "cell_type": "code",
   "execution_count": 6,
   "id": "f9419837",
   "metadata": {
    "execution": {
     "iopub.execute_input": "2023-12-18T08:35:20.635958Z",
     "iopub.status.busy": "2023-12-18T08:35:20.635688Z",
     "iopub.status.idle": "2023-12-18T08:35:20.645504Z",
     "shell.execute_reply": "2023-12-18T08:35:20.644657Z"
    },
    "papermill": {
     "duration": 0.024259,
     "end_time": "2023-12-18T08:35:20.647414",
     "exception": false,
     "start_time": "2023-12-18T08:35:20.623155",
     "status": "completed"
    },
    "tags": []
   },
   "outputs": [
    {
     "data": {
      "text/html": [
       "<div>\n",
       "<style scoped>\n",
       "    .dataframe tbody tr th:only-of-type {\n",
       "        vertical-align: middle;\n",
       "    }\n",
       "\n",
       "    .dataframe tbody tr th {\n",
       "        vertical-align: top;\n",
       "    }\n",
       "\n",
       "    .dataframe thead th {\n",
       "        text-align: right;\n",
       "    }\n",
       "</style>\n",
       "<table border=\"1\" class=\"dataframe\">\n",
       "  <thead>\n",
       "    <tr style=\"text-align: right;\">\n",
       "      <th></th>\n",
       "      <th>id</th>\n",
       "      <th>prompt_id</th>\n",
       "      <th>text</th>\n",
       "    </tr>\n",
       "  </thead>\n",
       "  <tbody>\n",
       "    <tr>\n",
       "      <th>0</th>\n",
       "      <td>0000aaaa</td>\n",
       "      <td>2</td>\n",
       "      <td>Aaa bbb ccc.</td>\n",
       "    </tr>\n",
       "    <tr>\n",
       "      <th>1</th>\n",
       "      <td>1111bbbb</td>\n",
       "      <td>3</td>\n",
       "      <td>Bbb ccc ddd.</td>\n",
       "    </tr>\n",
       "    <tr>\n",
       "      <th>2</th>\n",
       "      <td>2222cccc</td>\n",
       "      <td>4</td>\n",
       "      <td>CCC ddd eee.</td>\n",
       "    </tr>\n",
       "  </tbody>\n",
       "</table>\n",
       "</div>"
      ],
      "text/plain": [
       "         id  prompt_id          text\n",
       "0  0000aaaa          2  Aaa bbb ccc.\n",
       "1  1111bbbb          3  Bbb ccc ddd.\n",
       "2  2222cccc          4  CCC ddd eee."
      ]
     },
     "execution_count": 6,
     "metadata": {},
     "output_type": "execute_result"
    }
   ],
   "source": [
    "sample_sub = pd.read_csv(\"//kaggle/input/llm-detect-ai-generated-text/test_essays.csv\")\n",
    "sample_sub"
   ]
  },
  {
   "cell_type": "code",
   "execution_count": 7,
   "id": "64806c88",
   "metadata": {
    "execution": {
     "iopub.execute_input": "2023-12-18T08:35:20.672176Z",
     "iopub.status.busy": "2023-12-18T08:35:20.671932Z",
     "iopub.status.idle": "2023-12-18T08:35:20.694774Z",
     "shell.execute_reply": "2023-12-18T08:35:20.693661Z"
    },
    "papermill": {
     "duration": 0.037511,
     "end_time": "2023-12-18T08:35:20.696646",
     "exception": false,
     "start_time": "2023-12-18T08:35:20.659135",
     "status": "completed"
    },
    "tags": []
   },
   "outputs": [
    {
     "name": "stdout",
     "output_type": "stream",
     "text": [
      "<class 'pandas.core.frame.DataFrame'>\n",
      "RangeIndex: 1378 entries, 0 to 1377\n",
      "Data columns (total 4 columns):\n",
      " #   Column     Non-Null Count  Dtype \n",
      "---  ------     --------------  ----- \n",
      " 0   id         1378 non-null   object\n",
      " 1   prompt_id  1378 non-null   int64 \n",
      " 2   text       1378 non-null   object\n",
      " 3   generated  1378 non-null   int64 \n",
      "dtypes: int64(2), object(2)\n",
      "memory usage: 43.2+ KB\n"
     ]
    }
   ],
   "source": [
    "train_essay.info()"
   ]
  },
  {
   "cell_type": "code",
   "execution_count": 8,
   "id": "dfa40944",
   "metadata": {
    "execution": {
     "iopub.execute_input": "2023-12-18T08:35:20.721155Z",
     "iopub.status.busy": "2023-12-18T08:35:20.720892Z",
     "iopub.status.idle": "2023-12-18T08:35:20.728378Z",
     "shell.execute_reply": "2023-12-18T08:35:20.727575Z"
    },
    "papermill": {
     "duration": 0.021833,
     "end_time": "2023-12-18T08:35:20.730266",
     "exception": false,
     "start_time": "2023-12-18T08:35:20.708433",
     "status": "completed"
    },
    "tags": []
   },
   "outputs": [
    {
     "data": {
      "text/plain": [
       "prompt_id\n",
       "0    708\n",
       "1    670\n",
       "Name: count, dtype: int64"
      ]
     },
     "execution_count": 8,
     "metadata": {},
     "output_type": "execute_result"
    }
   ],
   "source": [
    "train_essay['prompt_id'].value_counts()"
   ]
  },
  {
   "cell_type": "code",
   "execution_count": 9,
   "id": "f6643d19",
   "metadata": {
    "execution": {
     "iopub.execute_input": "2023-12-18T08:35:20.755292Z",
     "iopub.status.busy": "2023-12-18T08:35:20.755030Z",
     "iopub.status.idle": "2023-12-18T08:35:20.922425Z",
     "shell.execute_reply": "2023-12-18T08:35:20.921566Z"
    },
    "papermill": {
     "duration": 0.183579,
     "end_time": "2023-12-18T08:35:20.925945",
     "exception": false,
     "start_time": "2023-12-18T08:35:20.742366",
     "status": "completed"
    },
    "tags": []
   },
   "outputs": [
    {
     "data": {
      "image/png": "[encoded data removed]",
      "text/plain": [
       "<Figure size 640x480 with 1 Axes>"
      ]
     },
     "metadata": {},
     "output_type": "display_data"
    }
   ],
   "source": [
    "sns.countplot(x=train_essay['prompt_id'])\n",
    "plt.show()"
   ]
  },
  {
   "cell_type": "code",
   "execution_count": 10,
   "id": "fd4857c2",
   "metadata": {
    "execution": {
     "iopub.execute_input": "2023-12-18T08:35:20.961242Z",
     "iopub.status.busy": "2023-12-18T08:35:20.960968Z",
     "iopub.status.idle": "2023-12-18T08:35:21.084856Z",
     "shell.execute_reply": "2023-12-18T08:35:21.083872Z"
    },
    "papermill": {
     "duration": 0.138901,
     "end_time": "2023-12-18T08:35:21.086952",
     "exception": false,
     "start_time": "2023-12-18T08:35:20.948051",
     "status": "completed"
    },
    "tags": []
   },
   "outputs": [
    {
     "data": {
      "image/png": "[encoded data removed]",
      "text/plain": [
       "<Figure size 640x480 with 1 Axes>"
      ]
     },
     "metadata": {},
     "output_type": "display_data"
    }
   ],
   "source": [
    "train_essay['prompt_id'].value_counts().plot(kind=\"pie\",autopct=\"%.1f%%\")\n",
    "plt.title(\"Prompt ID\")\n",
    "plt.show()"
   ]
  },
  {
   "cell_type": "code",
   "execution_count": 11,
   "id": "496d6b3c",
   "metadata": {
    "execution": {
     "iopub.execute_input": "2023-12-18T08:35:21.114487Z",
     "iopub.status.busy": "2023-12-18T08:35:21.113921Z",
     "iopub.status.idle": "2023-12-18T08:35:21.224429Z",
     "shell.execute_reply": "2023-12-18T08:35:21.223460Z"
    },
    "papermill": {
     "duration": 0.126428,
     "end_time": "2023-12-18T08:35:21.226633",
     "exception": false,
     "start_time": "2023-12-18T08:35:21.100205",
     "status": "completed"
    },
    "tags": []
   },
   "outputs": [
    {
     "data": {
      "image/png": "[encoded data removed]",
      "text/plain": [
       "<Figure size 640x480 with 1 Axes>"
      ]
     },
     "metadata": {},
     "output_type": "display_data"
    }
   ],
   "source": [
    "train_essay['generated'].value_counts().plot(kind=\"pie\",autopct=\"%.1f%%\")\n",
    "plt.title(\"Target label\")\n",
    "plt.show()"
   ]
  },
  {
   "cell_type": "code",
   "execution_count": 12,
   "id": "4e86b542",
   "metadata": {
    "execution": {
     "iopub.execute_input": "2023-12-18T08:35:21.255707Z",
     "iopub.status.busy": "2023-12-18T08:35:21.255407Z",
     "iopub.status.idle": "2023-12-18T08:35:21.268016Z",
     "shell.execute_reply": "2023-12-18T08:35:21.266915Z"
    },
    "papermill": {
     "duration": 0.029725,
     "end_time": "2023-12-18T08:35:21.270261",
     "exception": false,
     "start_time": "2023-12-18T08:35:21.240536",
     "status": "completed"
    },
    "tags": []
   },
   "outputs": [
    {
     "data": {
      "text/html": [
       "<div>\n",
       "<style scoped>\n",
       "    .dataframe tbody tr th:only-of-type {\n",
       "        vertical-align: middle;\n",
       "    }\n",
       "\n",
       "    .dataframe tbody tr th {\n",
       "        vertical-align: top;\n",
       "    }\n",
       "\n",
       "    .dataframe thead th {\n",
       "        text-align: right;\n",
       "    }\n",
       "</style>\n",
       "<table border=\"1\" class=\"dataframe\">\n",
       "  <thead>\n",
       "    <tr style=\"text-align: right;\">\n",
       "      <th></th>\n",
       "      <th>id</th>\n",
       "      <th>prompt_id</th>\n",
       "      <th>text</th>\n",
       "      <th>generated</th>\n",
       "    </tr>\n",
       "  </thead>\n",
       "  <tbody>\n",
       "    <tr>\n",
       "      <th>0</th>\n",
       "      <td>0059830c</td>\n",
       "      <td>0</td>\n",
       "      <td>Cars. Cars have been around since they became ...</td>\n",
       "      <td>0</td>\n",
       "    </tr>\n",
       "    <tr>\n",
       "      <th>1</th>\n",
       "      <td>005db917</td>\n",
       "      <td>0</td>\n",
       "      <td>Transportation is a large necessity in most co...</td>\n",
       "      <td>0</td>\n",
       "    </tr>\n",
       "    <tr>\n",
       "      <th>2</th>\n",
       "      <td>008f63e3</td>\n",
       "      <td>0</td>\n",
       "      <td>\"America's love affair with it's vehicles seem...</td>\n",
       "      <td>0</td>\n",
       "    </tr>\n",
       "    <tr>\n",
       "      <th>3</th>\n",
       "      <td>00940276</td>\n",
       "      <td>0</td>\n",
       "      <td>How often do you ride in a car? Do you drive a...</td>\n",
       "      <td>0</td>\n",
       "    </tr>\n",
       "    <tr>\n",
       "      <th>4</th>\n",
       "      <td>00c39458</td>\n",
       "      <td>0</td>\n",
       "      <td>Cars are a wonderful thing. They are perhaps o...</td>\n",
       "      <td>0</td>\n",
       "    </tr>\n",
       "  </tbody>\n",
       "</table>\n",
       "</div>"
      ],
      "text/plain": [
       "         id  prompt_id                                               text  \\\n",
       "0  0059830c          0  Cars. Cars have been around since they became ...   \n",
       "1  005db917          0  Transportation is a large necessity in most co...   \n",
       "2  008f63e3          0  \"America's love affair with it's vehicles seem...   \n",
       "3  00940276          0  How often do you ride in a car? Do you drive a...   \n",
       "4  00c39458          0  Cars are a wonderful thing. They are perhaps o...   \n",
       "\n",
       "   generated  \n",
       "0          0  \n",
       "1          0  \n",
       "2          0  \n",
       "3          0  \n",
       "4          0  "
      ]
     },
     "execution_count": 12,
     "metadata": {},
     "output_type": "execute_result"
    }
   ],
   "source": [
    "train_essay.head()"
   ]
  },
  {
   "cell_type": "code",
   "execution_count": 13,
   "id": "b729bcbb",
   "metadata": {
    "execution": {
     "iopub.execute_input": "2023-12-18T08:35:21.344101Z",
     "iopub.status.busy": "2023-12-18T08:35:21.343346Z",
     "iopub.status.idle": "2023-12-18T08:35:21.354275Z",
     "shell.execute_reply": "2023-12-18T08:35:21.353435Z"
    },
    "papermill": {
     "duration": 0.027604,
     "end_time": "2023-12-18T08:35:21.356354",
     "exception": false,
     "start_time": "2023-12-18T08:35:21.328750",
     "status": "completed"
    },
    "tags": []
   },
   "outputs": [
    {
     "data": {
      "text/html": [
       "<div>\n",
       "<style scoped>\n",
       "    .dataframe tbody tr th:only-of-type {\n",
       "        vertical-align: middle;\n",
       "    }\n",
       "\n",
       "    .dataframe tbody tr th {\n",
       "        vertical-align: top;\n",
       "    }\n",
       "\n",
       "    .dataframe thead th {\n",
       "        text-align: right;\n",
       "    }\n",
       "</style>\n",
       "<table border=\"1\" class=\"dataframe\">\n",
       "  <thead>\n",
       "    <tr style=\"text-align: right;\">\n",
       "      <th></th>\n",
       "      <th>id</th>\n",
       "      <th>prompt_id</th>\n",
       "      <th>text</th>\n",
       "      <th>generated</th>\n",
       "    </tr>\n",
       "  </thead>\n",
       "  <tbody>\n",
       "    <tr>\n",
       "      <th>704</th>\n",
       "      <td>82131f68</td>\n",
       "      <td>1</td>\n",
       "      <td>This essay will analyze, discuss and prove one...</td>\n",
       "      <td>1</td>\n",
       "    </tr>\n",
       "    <tr>\n",
       "      <th>740</th>\n",
       "      <td>86fe4f18</td>\n",
       "      <td>1</td>\n",
       "      <td>I strongly believe that the Electoral College ...</td>\n",
       "      <td>1</td>\n",
       "    </tr>\n",
       "    <tr>\n",
       "      <th>1262</th>\n",
       "      <td>eafb8a56</td>\n",
       "      <td>0</td>\n",
       "      <td>Limiting car use causes pollution, increases c...</td>\n",
       "      <td>1</td>\n",
       "    </tr>\n",
       "  </tbody>\n",
       "</table>\n",
       "</div>"
      ],
      "text/plain": [
       "            id  prompt_id                                               text  \\\n",
       "704   82131f68          1  This essay will analyze, discuss and prove one...   \n",
       "740   86fe4f18          1  I strongly believe that the Electoral College ...   \n",
       "1262  eafb8a56          0  Limiting car use causes pollution, increases c...   \n",
       "\n",
       "      generated  \n",
       "704           1  \n",
       "740           1  \n",
       "1262          1  "
      ]
     },
     "execution_count": 13,
     "metadata": {},
     "output_type": "execute_result"
    }
   ],
   "source": [
    "ai_df = train_essay[train_essay['generated']==1]\n",
    "ai_df"
   ]
  },
  {
   "cell_type": "code",
   "execution_count": 14,
   "id": "3973d4c2",
   "metadata": {
    "execution": {
     "iopub.execute_input": "2023-12-18T08:35:21.384276Z",
     "iopub.status.busy": "2023-12-18T08:35:21.383980Z",
     "iopub.status.idle": "2023-12-18T08:35:21.395902Z",
     "shell.execute_reply": "2023-12-18T08:35:21.395007Z"
    },
    "papermill": {
     "duration": 0.027853,
     "end_time": "2023-12-18T08:35:21.397774",
     "exception": false,
     "start_time": "2023-12-18T08:35:21.369921",
     "status": "completed"
    },
    "tags": []
   },
   "outputs": [
    {
     "data": {
      "text/html": [
       "<div>\n",
       "<style scoped>\n",
       "    .dataframe tbody tr th:only-of-type {\n",
       "        vertical-align: middle;\n",
       "    }\n",
       "\n",
       "    .dataframe tbody tr th {\n",
       "        vertical-align: top;\n",
       "    }\n",
       "\n",
       "    .dataframe thead th {\n",
       "        text-align: right;\n",
       "    }\n",
       "</style>\n",
       "<table border=\"1\" class=\"dataframe\">\n",
       "  <thead>\n",
       "    <tr style=\"text-align: right;\">\n",
       "      <th></th>\n",
       "      <th>id</th>\n",
       "      <th>prompt_id</th>\n",
       "      <th>text</th>\n",
       "      <th>generated</th>\n",
       "    </tr>\n",
       "  </thead>\n",
       "  <tbody>\n",
       "    <tr>\n",
       "      <th>0</th>\n",
       "      <td>0059830c</td>\n",
       "      <td>0</td>\n",
       "      <td>Cars. Cars have been around since they became ...</td>\n",
       "      <td>0</td>\n",
       "    </tr>\n",
       "    <tr>\n",
       "      <th>1</th>\n",
       "      <td>005db917</td>\n",
       "      <td>0</td>\n",
       "      <td>Transportation is a large necessity in most co...</td>\n",
       "      <td>0</td>\n",
       "    </tr>\n",
       "    <tr>\n",
       "      <th>2</th>\n",
       "      <td>008f63e3</td>\n",
       "      <td>0</td>\n",
       "      <td>\"America's love affair with it's vehicles seem...</td>\n",
       "      <td>0</td>\n",
       "    </tr>\n",
       "    <tr>\n",
       "      <th>3</th>\n",
       "      <td>00940276</td>\n",
       "      <td>0</td>\n",
       "      <td>How often do you ride in a car? Do you drive a...</td>\n",
       "      <td>0</td>\n",
       "    </tr>\n",
       "    <tr>\n",
       "      <th>4</th>\n",
       "      <td>00c39458</td>\n",
       "      <td>0</td>\n",
       "      <td>Cars are a wonderful thing. They are perhaps o...</td>\n",
       "      <td>0</td>\n",
       "    </tr>\n",
       "    <tr>\n",
       "      <th>...</th>\n",
       "      <td>...</td>\n",
       "      <td>...</td>\n",
       "      <td>...</td>\n",
       "      <td>...</td>\n",
       "    </tr>\n",
       "    <tr>\n",
       "      <th>1373</th>\n",
       "      <td>fe6ff9a5</td>\n",
       "      <td>1</td>\n",
       "      <td>There has been a fuss about the Elector Colleg...</td>\n",
       "      <td>0</td>\n",
       "    </tr>\n",
       "    <tr>\n",
       "      <th>1374</th>\n",
       "      <td>ff669174</td>\n",
       "      <td>0</td>\n",
       "      <td>Limiting car usage has many advantages. Such a...</td>\n",
       "      <td>0</td>\n",
       "    </tr>\n",
       "    <tr>\n",
       "      <th>1375</th>\n",
       "      <td>ffa247e0</td>\n",
       "      <td>0</td>\n",
       "      <td>There's a new trend that has been developing f...</td>\n",
       "      <td>0</td>\n",
       "    </tr>\n",
       "    <tr>\n",
       "      <th>1376</th>\n",
       "      <td>ffc237e9</td>\n",
       "      <td>0</td>\n",
       "      <td>As we all know cars are a big part of our soci...</td>\n",
       "      <td>0</td>\n",
       "    </tr>\n",
       "    <tr>\n",
       "      <th>1377</th>\n",
       "      <td>ffe1ca0d</td>\n",
       "      <td>0</td>\n",
       "      <td>Cars have been around since the 1800's and hav...</td>\n",
       "      <td>0</td>\n",
       "    </tr>\n",
       "  </tbody>\n",
       "</table>\n",
       "<p>1378 rows × 4 columns</p>\n",
       "</div>"
      ],
      "text/plain": [
       "            id  prompt_id                                               text  \\\n",
       "0     0059830c          0  Cars. Cars have been around since they became ...   \n",
       "1     005db917          0  Transportation is a large necessity in most co...   \n",
       "2     008f63e3          0  \"America's love affair with it's vehicles seem...   \n",
       "3     00940276          0  How often do you ride in a car? Do you drive a...   \n",
       "4     00c39458          0  Cars are a wonderful thing. They are perhaps o...   \n",
       "...        ...        ...                                                ...   \n",
       "1373  fe6ff9a5          1  There has been a fuss about the Elector Colleg...   \n",
       "1374  ff669174          0  Limiting car usage has many advantages. Such a...   \n",
       "1375  ffa247e0          0  There's a new trend that has been developing f...   \n",
       "1376  ffc237e9          0  As we all know cars are a big part of our soci...   \n",
       "1377  ffe1ca0d          0  Cars have been around since the 1800's and hav...   \n",
       "\n",
       "      generated  \n",
       "0             0  \n",
       "1             0  \n",
       "2             0  \n",
       "3             0  \n",
       "4             0  \n",
       "...         ...  \n",
       "1373          0  \n",
       "1374          0  \n",
       "1375          0  \n",
       "1376          0  \n",
       "1377          0  \n",
       "\n",
       "[1378 rows x 4 columns]"
      ]
     },
     "execution_count": 14,
     "metadata": {},
     "output_type": "execute_result"
    }
   ],
   "source": [
    "train_essay"
   ]
  },
  {
   "cell_type": "code",
   "execution_count": 15,
   "id": "966eaff3",
   "metadata": {
    "execution": {
     "iopub.execute_input": "2023-12-18T08:35:21.425762Z",
     "iopub.status.busy": "2023-12-18T08:35:21.425484Z",
     "iopub.status.idle": "2023-12-18T08:35:21.430354Z",
     "shell.execute_reply": "2023-12-18T08:35:21.429600Z"
    },
    "papermill": {
     "duration": 0.020853,
     "end_time": "2023-12-18T08:35:21.432129",
     "exception": false,
     "start_time": "2023-12-18T08:35:21.411276",
     "status": "completed"
    },
    "tags": []
   },
   "outputs": [],
   "source": [
    "stopwords_text = \"\"\"\"i me my myself we our ours ourselves you you're you've you'll you'd your yours yourself yourselves he him his himself she she's her hers herself it it's its itself they them their theirs themselves what which who whom this that that'll these those am is are was were be been being have has had having do does did doing a an the and but if or because as until while of at by for with about against between into through during before after above below to from up down in out on off over under again further then once here there when where why how all any both each few more most other some such only own same so than too very s t can will just don don't should should've now d ll m o re ve y ain aren aren't couldn couldn't didn didn't doesn doesn't hadn hadn't hasn hasn't haven haven't isn isn't ma mightn mightn't mustn mustn't needn needn't shan shan't shouldn shouldn't wasn wasn't weren weren't won won't wouldn wouldn't\"\n",
    "\"\"\"\n",
    "stopwords_list = stopwords_text.split()"
   ]
  },
  {
   "cell_type": "code",
   "execution_count": 16,
   "id": "f98ee91f",
   "metadata": {
    "execution": {
     "iopub.execute_input": "2023-12-18T08:35:21.459944Z",
     "iopub.status.busy": "2023-12-18T08:35:21.459660Z",
     "iopub.status.idle": "2023-12-18T08:35:21.464711Z",
     "shell.execute_reply": "2023-12-18T08:35:21.463858Z"
    },
    "papermill": {
     "duration": 0.020997,
     "end_time": "2023-12-18T08:35:21.466468",
     "exception": false,
     "start_time": "2023-12-18T08:35:21.445471",
     "status": "completed"
    },
    "tags": []
   },
   "outputs": [
    {
     "data": {
      "text/plain": [
       "176"
      ]
     },
     "execution_count": 16,
     "metadata": {},
     "output_type": "execute_result"
    }
   ],
   "source": [
    "len(stopwords_list)"
   ]
  },
  {
   "cell_type": "code",
   "execution_count": 17,
   "id": "a1fa0dbf",
   "metadata": {
    "execution": {
     "iopub.execute_input": "2023-12-18T08:35:21.494588Z",
     "iopub.status.busy": "2023-12-18T08:35:21.494350Z",
     "iopub.status.idle": "2023-12-18T08:35:22.870014Z",
     "shell.execute_reply": "2023-12-18T08:35:22.869166Z"
    },
    "papermill": {
     "duration": 1.392188,
     "end_time": "2023-12-18T08:35:22.872272",
     "exception": false,
     "start_time": "2023-12-18T08:35:21.480084",
     "status": "completed"
    },
    "tags": []
   },
   "outputs": [],
   "source": [
    "df = pd.read_csv(\"/kaggle/input/dataset-4/Training_Essay_Data.csv\")"
   ]
  },
  {
   "cell_type": "code",
   "execution_count": 18,
   "id": "fda65b20",
   "metadata": {
    "execution": {
     "iopub.execute_input": "2023-12-18T08:35:22.901252Z",
     "iopub.status.busy": "2023-12-18T08:35:22.900961Z",
     "iopub.status.idle": "2023-12-18T08:35:22.912116Z",
     "shell.execute_reply": "2023-12-18T08:35:22.911125Z"
    },
    "papermill": {
     "duration": 0.028014,
     "end_time": "2023-12-18T08:35:22.914355",
     "exception": false,
     "start_time": "2023-12-18T08:35:22.886341",
     "status": "completed"
    },
    "tags": []
   },
   "outputs": [
    {
     "data": {
      "text/html": [
       "<div>\n",
       "<style scoped>\n",
       "    .dataframe tbody tr th:only-of-type {\n",
       "        vertical-align: middle;\n",
       "    }\n",
       "\n",
       "    .dataframe tbody tr th {\n",
       "        vertical-align: top;\n",
       "    }\n",
       "\n",
       "    .dataframe thead th {\n",
       "        text-align: right;\n",
       "    }\n",
       "</style>\n",
       "<table border=\"1\" class=\"dataframe\">\n",
       "  <thead>\n",
       "    <tr style=\"text-align: right;\">\n",
       "      <th></th>\n",
       "      <th>text</th>\n",
       "      <th>generated</th>\n",
       "    </tr>\n",
       "  </thead>\n",
       "  <tbody>\n",
       "    <tr>\n",
       "      <th>0</th>\n",
       "      <td>Car-free cities have become a subject of incre...</td>\n",
       "      <td>1</td>\n",
       "    </tr>\n",
       "    <tr>\n",
       "      <th>1</th>\n",
       "      <td>Car Free Cities  Car-free cities, a concept ga...</td>\n",
       "      <td>1</td>\n",
       "    </tr>\n",
       "    <tr>\n",
       "      <th>2</th>\n",
       "      <td>A Sustainable Urban Future  Car-free cities ...</td>\n",
       "      <td>1</td>\n",
       "    </tr>\n",
       "    <tr>\n",
       "      <th>3</th>\n",
       "      <td>Pioneering Sustainable Urban Living  In an e...</td>\n",
       "      <td>1</td>\n",
       "    </tr>\n",
       "    <tr>\n",
       "      <th>4</th>\n",
       "      <td>The Path to Sustainable Urban Living  In an ...</td>\n",
       "      <td>1</td>\n",
       "    </tr>\n",
       "    <tr>\n",
       "      <th>...</th>\n",
       "      <td>...</td>\n",
       "      <td>...</td>\n",
       "    </tr>\n",
       "    <tr>\n",
       "      <th>29140</th>\n",
       "      <td>There has been a fuss about the Elector Colleg...</td>\n",
       "      <td>0</td>\n",
       "    </tr>\n",
       "    <tr>\n",
       "      <th>29141</th>\n",
       "      <td>Limiting car usage has many advantages. Such a...</td>\n",
       "      <td>0</td>\n",
       "    </tr>\n",
       "    <tr>\n",
       "      <th>29142</th>\n",
       "      <td>There's a new trend that has been developing f...</td>\n",
       "      <td>0</td>\n",
       "    </tr>\n",
       "    <tr>\n",
       "      <th>29143</th>\n",
       "      <td>As we all know cars are a big part of our soci...</td>\n",
       "      <td>0</td>\n",
       "    </tr>\n",
       "    <tr>\n",
       "      <th>29144</th>\n",
       "      <td>Cars have been around since the 1800's and hav...</td>\n",
       "      <td>0</td>\n",
       "    </tr>\n",
       "  </tbody>\n",
       "</table>\n",
       "<p>29145 rows × 2 columns</p>\n",
       "</div>"
      ],
      "text/plain": [
       "                                                    text  generated\n",
       "0      Car-free cities have become a subject of incre...          1\n",
       "1      Car Free Cities  Car-free cities, a concept ga...          1\n",
       "2        A Sustainable Urban Future  Car-free cities ...          1\n",
       "3        Pioneering Sustainable Urban Living  In an e...          1\n",
       "4        The Path to Sustainable Urban Living  In an ...          1\n",
       "...                                                  ...        ...\n",
       "29140  There has been a fuss about the Elector Colleg...          0\n",
       "29141  Limiting car usage has many advantages. Such a...          0\n",
       "29142  There's a new trend that has been developing f...          0\n",
       "29143  As we all know cars are a big part of our soci...          0\n",
       "29144  Cars have been around since the 1800's and hav...          0\n",
       "\n",
       "[29145 rows x 2 columns]"
      ]
     },
     "execution_count": 18,
     "metadata": {},
     "output_type": "execute_result"
    }
   ],
   "source": [
    "df"
   ]
  },
  {
   "cell_type": "code",
   "execution_count": 19,
   "id": "b5628638",
   "metadata": {
    "execution": {
     "iopub.execute_input": "2023-12-18T08:35:22.945906Z",
     "iopub.status.busy": "2023-12-18T08:35:22.945575Z",
     "iopub.status.idle": "2023-12-18T08:35:25.109246Z",
     "shell.execute_reply": "2023-12-18T08:35:25.108200Z"
    },
    "papermill": {
     "duration": 2.181583,
     "end_time": "2023-12-18T08:35:25.111644",
     "exception": false,
     "start_time": "2023-12-18T08:35:22.930061",
     "status": "completed"
    },
    "tags": []
   },
   "outputs": [
    {
     "data": {
      "text/html": [
       "<div>\n",
       "<style scoped>\n",
       "    .dataframe tbody tr th:only-of-type {\n",
       "        vertical-align: middle;\n",
       "    }\n",
       "\n",
       "    .dataframe tbody tr th {\n",
       "        vertical-align: top;\n",
       "    }\n",
       "\n",
       "    .dataframe thead th {\n",
       "        text-align: right;\n",
       "    }\n",
       "</style>\n",
       "<table border=\"1\" class=\"dataframe\">\n",
       "  <thead>\n",
       "    <tr style=\"text-align: right;\">\n",
       "      <th></th>\n",
       "      <th>text</th>\n",
       "      <th>generated</th>\n",
       "    </tr>\n",
       "  </thead>\n",
       "  <tbody>\n",
       "    <tr>\n",
       "      <th>0</th>\n",
       "      <td>In recent years, technology has had a profoun...</td>\n",
       "      <td>1</td>\n",
       "    </tr>\n",
       "    <tr>\n",
       "      <th>1</th>\n",
       "      <td>Should students participate in an extracurricu...</td>\n",
       "      <td>0</td>\n",
       "    </tr>\n",
       "    <tr>\n",
       "      <th>2</th>\n",
       "      <td>The electoral college is a symbol of mockery a...</td>\n",
       "      <td>0</td>\n",
       "    </tr>\n",
       "    <tr>\n",
       "      <th>3</th>\n",
       "      <td>This is why I think the principle should allow...</td>\n",
       "      <td>0</td>\n",
       "    </tr>\n",
       "    <tr>\n",
       "      <th>4</th>\n",
       "      <td>I strongly believe that meditation and mindful...</td>\n",
       "      <td>1</td>\n",
       "    </tr>\n",
       "    <tr>\n",
       "      <th>...</th>\n",
       "      <td>...</td>\n",
       "      <td>...</td>\n",
       "    </tr>\n",
       "    <tr>\n",
       "      <th>44201</th>\n",
       "      <td>\"Oh man I didn't make the soccer team!\", yelle...</td>\n",
       "      <td>0</td>\n",
       "    </tr>\n",
       "    <tr>\n",
       "      <th>44202</th>\n",
       "      <td>I believe that using this technology could be ...</td>\n",
       "      <td>0</td>\n",
       "    </tr>\n",
       "    <tr>\n",
       "      <th>44203</th>\n",
       "      <td>The Face on Mars is a fascinating phenomenon t...</td>\n",
       "      <td>1</td>\n",
       "    </tr>\n",
       "    <tr>\n",
       "      <th>44204</th>\n",
       "      <td>Texting &amp; Driving\\n\\nUsing your phone while dr...</td>\n",
       "      <td>0</td>\n",
       "    </tr>\n",
       "    <tr>\n",
       "      <th>44205</th>\n",
       "      <td>Dear Principal,\\n\\nI have been really good thi...</td>\n",
       "      <td>0</td>\n",
       "    </tr>\n",
       "  </tbody>\n",
       "</table>\n",
       "<p>44206 rows × 2 columns</p>\n",
       "</div>"
      ],
      "text/plain": [
       "                                                    text  generated\n",
       "0       In recent years, technology has had a profoun...          1\n",
       "1      Should students participate in an extracurricu...          0\n",
       "2      The electoral college is a symbol of mockery a...          0\n",
       "3      This is why I think the principle should allow...          0\n",
       "4      I strongly believe that meditation and mindful...          1\n",
       "...                                                  ...        ...\n",
       "44201  \"Oh man I didn't make the soccer team!\", yelle...          0\n",
       "44202  I believe that using this technology could be ...          0\n",
       "44203  The Face on Mars is a fascinating phenomenon t...          1\n",
       "44204  Texting & Driving\\n\\nUsing your phone while dr...          0\n",
       "44205  Dear Principal,\\n\\nI have been really good thi...          0\n",
       "\n",
       "[44206 rows x 2 columns]"
      ]
     },
     "execution_count": 19,
     "metadata": {},
     "output_type": "execute_result"
    }
   ],
   "source": [
    "df2 = pd.read_csv(\"/kaggle/input/dataset-2/train_drcat_04.csv\")\n",
    "df2 = df2[['text','label']]\n",
    "df2.columns = ['text','generated']\n",
    "df2"
   ]
  },
  {
   "cell_type": "code",
   "execution_count": 20,
   "id": "3459aba0",
   "metadata": {
    "execution": {
     "iopub.execute_input": "2023-12-18T08:35:25.144286Z",
     "iopub.status.busy": "2023-12-18T08:35:25.143540Z",
     "iopub.status.idle": "2023-12-18T08:35:25.813735Z",
     "shell.execute_reply": "2023-12-18T08:35:25.812818Z"
    },
    "papermill": {
     "duration": 0.688046,
     "end_time": "2023-12-18T08:35:25.816107",
     "exception": false,
     "start_time": "2023-12-18T08:35:25.128061",
     "status": "completed"
    },
    "tags": []
   },
   "outputs": [
    {
     "data": {
      "text/html": [
       "<div>\n",
       "<style scoped>\n",
       "    .dataframe tbody tr th:only-of-type {\n",
       "        vertical-align: middle;\n",
       "    }\n",
       "\n",
       "    .dataframe tbody tr th {\n",
       "        vertical-align: top;\n",
       "    }\n",
       "\n",
       "    .dataframe thead th {\n",
       "        text-align: right;\n",
       "    }\n",
       "</style>\n",
       "<table border=\"1\" class=\"dataframe\">\n",
       "  <thead>\n",
       "    <tr style=\"text-align: right;\">\n",
       "      <th></th>\n",
       "      <th>text</th>\n",
       "      <th>generated</th>\n",
       "    </tr>\n",
       "  </thead>\n",
       "  <tbody>\n",
       "    <tr>\n",
       "      <th>0</th>\n",
       "      <td>Cars. Cars have been around since they became ...</td>\n",
       "      <td>0</td>\n",
       "    </tr>\n",
       "    <tr>\n",
       "      <th>1</th>\n",
       "      <td>Transportation is a large necessity in most co...</td>\n",
       "      <td>0</td>\n",
       "    </tr>\n",
       "    <tr>\n",
       "      <th>2</th>\n",
       "      <td>\"America's love affair with it's vehicles seem...</td>\n",
       "      <td>0</td>\n",
       "    </tr>\n",
       "    <tr>\n",
       "      <th>3</th>\n",
       "      <td>How often do you ride in a car? Do you drive a...</td>\n",
       "      <td>0</td>\n",
       "    </tr>\n",
       "    <tr>\n",
       "      <th>4</th>\n",
       "      <td>Cars are a wonderful thing. They are perhaps o...</td>\n",
       "      <td>0</td>\n",
       "    </tr>\n",
       "    <tr>\n",
       "      <th>...</th>\n",
       "      <td>...</td>\n",
       "      <td>...</td>\n",
       "    </tr>\n",
       "    <tr>\n",
       "      <th>15866</th>\n",
       "      <td>While some find the \"Face on Mars\" imaged by t...</td>\n",
       "      <td>1</td>\n",
       "    </tr>\n",
       "    <tr>\n",
       "      <th>15867</th>\n",
       "      <td>Limiting car usage has many benefits for moder...</td>\n",
       "      <td>1</td>\n",
       "    </tr>\n",
       "    <tr>\n",
       "      <th>15868</th>\n",
       "      <td>The Rise of Driverless Cars\\n\\nThe development...</td>\n",
       "      <td>1</td>\n",
       "    </tr>\n",
       "    <tr>\n",
       "      <th>15869</th>\n",
       "      <td>The Open Sea Beckons\\n\\nThe Seagoing Cowboys p...</td>\n",
       "      <td>1</td>\n",
       "    </tr>\n",
       "    <tr>\n",
       "      <th>15870</th>\n",
       "      <td>While technology often progresses society in p...</td>\n",
       "      <td>1</td>\n",
       "    </tr>\n",
       "  </tbody>\n",
       "</table>\n",
       "<p>15871 rows × 2 columns</p>\n",
       "</div>"
      ],
      "text/plain": [
       "                                                    text  generated\n",
       "0      Cars. Cars have been around since they became ...          0\n",
       "1      Transportation is a large necessity in most co...          0\n",
       "2      \"America's love affair with it's vehicles seem...          0\n",
       "3      How often do you ride in a car? Do you drive a...          0\n",
       "4      Cars are a wonderful thing. They are perhaps o...          0\n",
       "...                                                  ...        ...\n",
       "15866  While some find the \"Face on Mars\" imaged by t...          1\n",
       "15867  Limiting car usage has many benefits for moder...          1\n",
       "15868  The Rise of Driverless Cars\\n\\nThe development...          1\n",
       "15869  The Open Sea Beckons\\n\\nThe Seagoing Cowboys p...          1\n",
       "15870  While technology often progresses society in p...          1\n",
       "\n",
       "[15871 rows x 2 columns]"
      ]
     },
     "execution_count": 20,
     "metadata": {},
     "output_type": "execute_result"
    }
   ],
   "source": [
    "df3 = pd.read_csv(\"/kaggle/input/dataset-2/train_essays_RDizzl3_seven_v1.csv\")\n",
    "df3.columns = ['text','generated']\n",
    "df3"
   ]
  },
  {
   "cell_type": "code",
   "execution_count": 21,
   "id": "da12bf66",
   "metadata": {
    "execution": {
     "iopub.execute_input": "2023-12-18T08:35:25.847951Z",
     "iopub.status.busy": "2023-12-18T08:35:25.847633Z",
     "iopub.status.idle": "2023-12-18T08:35:25.859933Z",
     "shell.execute_reply": "2023-12-18T08:35:25.859087Z"
    },
    "papermill": {
     "duration": 0.030343,
     "end_time": "2023-12-18T08:35:25.862126",
     "exception": false,
     "start_time": "2023-12-18T08:35:25.831783",
     "status": "completed"
    },
    "tags": []
   },
   "outputs": [
    {
     "data": {
      "text/html": [
       "<div>\n",
       "<style scoped>\n",
       "    .dataframe tbody tr th:only-of-type {\n",
       "        vertical-align: middle;\n",
       "    }\n",
       "\n",
       "    .dataframe tbody tr th {\n",
       "        vertical-align: top;\n",
       "    }\n",
       "\n",
       "    .dataframe thead th {\n",
       "        text-align: right;\n",
       "    }\n",
       "</style>\n",
       "<table border=\"1\" class=\"dataframe\">\n",
       "  <thead>\n",
       "    <tr style=\"text-align: right;\">\n",
       "      <th></th>\n",
       "      <th>text</th>\n",
       "      <th>generated</th>\n",
       "    </tr>\n",
       "  </thead>\n",
       "  <tbody>\n",
       "    <tr>\n",
       "      <th>0</th>\n",
       "      <td>Cars. Cars have been around since they became ...</td>\n",
       "      <td>0</td>\n",
       "    </tr>\n",
       "    <tr>\n",
       "      <th>1</th>\n",
       "      <td>Transportation is a large necessity in most co...</td>\n",
       "      <td>0</td>\n",
       "    </tr>\n",
       "    <tr>\n",
       "      <th>2</th>\n",
       "      <td>\"America's love affair with it's vehicles seem...</td>\n",
       "      <td>0</td>\n",
       "    </tr>\n",
       "    <tr>\n",
       "      <th>3</th>\n",
       "      <td>How often do you ride in a car? Do you drive a...</td>\n",
       "      <td>0</td>\n",
       "    </tr>\n",
       "    <tr>\n",
       "      <th>4</th>\n",
       "      <td>Cars are a wonderful thing. They are perhaps o...</td>\n",
       "      <td>0</td>\n",
       "    </tr>\n",
       "    <tr>\n",
       "      <th>...</th>\n",
       "      <td>...</td>\n",
       "      <td>...</td>\n",
       "    </tr>\n",
       "    <tr>\n",
       "      <th>89217</th>\n",
       "      <td>There has been a fuss about the Elector Colleg...</td>\n",
       "      <td>0</td>\n",
       "    </tr>\n",
       "    <tr>\n",
       "      <th>89218</th>\n",
       "      <td>Limiting car usage has many advantages. Such a...</td>\n",
       "      <td>0</td>\n",
       "    </tr>\n",
       "    <tr>\n",
       "      <th>89219</th>\n",
       "      <td>There's a new trend that has been developing f...</td>\n",
       "      <td>0</td>\n",
       "    </tr>\n",
       "    <tr>\n",
       "      <th>89220</th>\n",
       "      <td>As we all know cars are a big part of our soci...</td>\n",
       "      <td>0</td>\n",
       "    </tr>\n",
       "    <tr>\n",
       "      <th>89221</th>\n",
       "      <td>Cars have been around since the 1800's and hav...</td>\n",
       "      <td>0</td>\n",
       "    </tr>\n",
       "  </tbody>\n",
       "</table>\n",
       "<p>89222 rows × 2 columns</p>\n",
       "</div>"
      ],
      "text/plain": [
       "                                                    text  generated\n",
       "0      Cars. Cars have been around since they became ...          0\n",
       "1      Transportation is a large necessity in most co...          0\n",
       "2      \"America's love affair with it's vehicles seem...          0\n",
       "3      How often do you ride in a car? Do you drive a...          0\n",
       "4      Cars are a wonderful thing. They are perhaps o...          0\n",
       "...                                                  ...        ...\n",
       "89217  There has been a fuss about the Elector Colleg...          0\n",
       "89218  Limiting car usage has many advantages. Such a...          0\n",
       "89219  There's a new trend that has been developing f...          0\n",
       "89220  As we all know cars are a big part of our soci...          0\n",
       "89221  Cars have been around since the 1800's and hav...          0\n",
       "\n",
       "[89222 rows x 2 columns]"
      ]
     },
     "execution_count": 21,
     "metadata": {},
     "output_type": "execute_result"
    }
   ],
   "source": [
    "train_data = pd.concat([df3,df2,df],axis=0,ignore_index=True)\n",
    "train_data"
   ]
  },
  {
   "cell_type": "code",
   "execution_count": 22,
   "id": "2ab26f90",
   "metadata": {
    "execution": {
     "iopub.execute_input": "2023-12-18T08:35:25.892493Z",
     "iopub.status.busy": "2023-12-18T08:35:25.892231Z",
     "iopub.status.idle": "2023-12-18T08:35:26.350058Z",
     "shell.execute_reply": "2023-12-18T08:35:26.349056Z"
    },
    "papermill": {
     "duration": 0.475591,
     "end_time": "2023-12-18T08:35:26.352488",
     "exception": false,
     "start_time": "2023-12-18T08:35:25.876897",
     "status": "completed"
    },
    "tags": []
   },
   "outputs": [],
   "source": [
    "train_data.drop_duplicates(inplace=True,ignore_index=True)"
   ]
  },
  {
   "cell_type": "code",
   "execution_count": 23,
   "id": "04d0b264",
   "metadata": {
    "execution": {
     "iopub.execute_input": "2023-12-18T08:35:26.384172Z",
     "iopub.status.busy": "2023-12-18T08:35:26.383854Z",
     "iopub.status.idle": "2023-12-18T08:35:26.394351Z",
     "shell.execute_reply": "2023-12-18T08:35:26.393453Z"
    },
    "papermill": {
     "duration": 0.028291,
     "end_time": "2023-12-18T08:35:26.396218",
     "exception": false,
     "start_time": "2023-12-18T08:35:26.367927",
     "status": "completed"
    },
    "tags": []
   },
   "outputs": [
    {
     "data": {
      "text/html": [
       "<div>\n",
       "<style scoped>\n",
       "    .dataframe tbody tr th:only-of-type {\n",
       "        vertical-align: middle;\n",
       "    }\n",
       "\n",
       "    .dataframe tbody tr th {\n",
       "        vertical-align: top;\n",
       "    }\n",
       "\n",
       "    .dataframe thead th {\n",
       "        text-align: right;\n",
       "    }\n",
       "</style>\n",
       "<table border=\"1\" class=\"dataframe\">\n",
       "  <thead>\n",
       "    <tr style=\"text-align: right;\">\n",
       "      <th></th>\n",
       "      <th>text</th>\n",
       "      <th>generated</th>\n",
       "    </tr>\n",
       "  </thead>\n",
       "  <tbody>\n",
       "    <tr>\n",
       "      <th>0</th>\n",
       "      <td>Cars. Cars have been around since they became ...</td>\n",
       "      <td>0</td>\n",
       "    </tr>\n",
       "    <tr>\n",
       "      <th>1</th>\n",
       "      <td>Transportation is a large necessity in most co...</td>\n",
       "      <td>0</td>\n",
       "    </tr>\n",
       "    <tr>\n",
       "      <th>2</th>\n",
       "      <td>\"America's love affair with it's vehicles seem...</td>\n",
       "      <td>0</td>\n",
       "    </tr>\n",
       "    <tr>\n",
       "      <th>3</th>\n",
       "      <td>How often do you ride in a car? Do you drive a...</td>\n",
       "      <td>0</td>\n",
       "    </tr>\n",
       "    <tr>\n",
       "      <th>4</th>\n",
       "      <td>Cars are a wonderful thing. They are perhaps o...</td>\n",
       "      <td>0</td>\n",
       "    </tr>\n",
       "    <tr>\n",
       "      <th>...</th>\n",
       "      <td>...</td>\n",
       "      <td>...</td>\n",
       "    </tr>\n",
       "    <tr>\n",
       "      <th>65457</th>\n",
       "      <td>Today's society is ever-evolving and the role ...</td>\n",
       "      <td>1</td>\n",
       "    </tr>\n",
       "    <tr>\n",
       "      <th>65458</th>\n",
       "      <td>The ever-evolving world of technology has chan...</td>\n",
       "      <td>1</td>\n",
       "    </tr>\n",
       "    <tr>\n",
       "      <th>65459</th>\n",
       "      <td>Fostering a Rescue Dog: Gaining Unconditional ...</td>\n",
       "      <td>1</td>\n",
       "    </tr>\n",
       "    <tr>\n",
       "      <th>65460</th>\n",
       "      <td>The importance of a solid foundation in educat...</td>\n",
       "      <td>1</td>\n",
       "    </tr>\n",
       "    <tr>\n",
       "      <th>65461</th>\n",
       "      <td>Over the last decade, cities around the world ...</td>\n",
       "      <td>1</td>\n",
       "    </tr>\n",
       "  </tbody>\n",
       "</table>\n",
       "<p>65462 rows × 2 columns</p>\n",
       "</div>"
      ],
      "text/plain": [
       "                                                    text  generated\n",
       "0      Cars. Cars have been around since they became ...          0\n",
       "1      Transportation is a large necessity in most co...          0\n",
       "2      \"America's love affair with it's vehicles seem...          0\n",
       "3      How often do you ride in a car? Do you drive a...          0\n",
       "4      Cars are a wonderful thing. They are perhaps o...          0\n",
       "...                                                  ...        ...\n",
       "65457  Today's society is ever-evolving and the role ...          1\n",
       "65458  The ever-evolving world of technology has chan...          1\n",
       "65459  Fostering a Rescue Dog: Gaining Unconditional ...          1\n",
       "65460  The importance of a solid foundation in educat...          1\n",
       "65461  Over the last decade, cities around the world ...          1\n",
       "\n",
       "[65462 rows x 2 columns]"
      ]
     },
     "execution_count": 23,
     "metadata": {},
     "output_type": "execute_result"
    }
   ],
   "source": [
    "train_data"
   ]
  },
  {
   "cell_type": "code",
   "execution_count": 24,
   "id": "a40675f2",
   "metadata": {
    "execution": {
     "iopub.execute_input": "2023-12-18T08:35:26.427334Z",
     "iopub.status.busy": "2023-12-18T08:35:26.427064Z",
     "iopub.status.idle": "2023-12-18T08:35:26.486826Z",
     "shell.execute_reply": "2023-12-18T08:35:26.485924Z"
    },
    "papermill": {
     "duration": 0.077307,
     "end_time": "2023-12-18T08:35:26.488775",
     "exception": false,
     "start_time": "2023-12-18T08:35:26.411468",
     "status": "completed"
    },
    "tags": []
   },
   "outputs": [
    {
     "data": {
      "text/html": [
       "<div>\n",
       "<style scoped>\n",
       "    .dataframe tbody tr th:only-of-type {\n",
       "        vertical-align: middle;\n",
       "    }\n",
       "\n",
       "    .dataframe tbody tr th {\n",
       "        vertical-align: top;\n",
       "    }\n",
       "\n",
       "    .dataframe thead th {\n",
       "        text-align: right;\n",
       "    }\n",
       "</style>\n",
       "<table border=\"1\" class=\"dataframe\">\n",
       "  <thead>\n",
       "    <tr style=\"text-align: right;\">\n",
       "      <th></th>\n",
       "      <th>generated_text</th>\n",
       "      <th>writing_prompt</th>\n",
       "    </tr>\n",
       "  </thead>\n",
       "  <tbody>\n",
       "    <tr>\n",
       "      <th>0</th>\n",
       "      <td>Dear Principal,\\n\\nI am writing to express my ...</td>\n",
       "      <td>Your principal is considering changing school ...</td>\n",
       "    </tr>\n",
       "    <tr>\n",
       "      <th>1</th>\n",
       "      <td>When people are faced with a difficult decisio...</td>\n",
       "      <td>When people ask for advice, they sometimes tal...</td>\n",
       "    </tr>\n",
       "    <tr>\n",
       "      <th>2</th>\n",
       "      <td>As a grade 12 student, I believe that summer p...</td>\n",
       "      <td>Some schools require students to complete summ...</td>\n",
       "    </tr>\n",
       "    <tr>\n",
       "      <th>3</th>\n",
       "      <td>Dear Principal,\\n\\nI am writing to share my th...</td>\n",
       "      <td>Some of your friends perform community service...</td>\n",
       "    </tr>\n",
       "    <tr>\n",
       "      <th>4</th>\n",
       "      <td>\"Making Mona Lisa Smile\" is an interesting art...</td>\n",
       "      <td>In the article \"Making Mona Lisa Smile,\" the a...</td>\n",
       "    </tr>\n",
       "    <tr>\n",
       "      <th>...</th>\n",
       "      <td>...</td>\n",
       "      <td>...</td>\n",
       "    </tr>\n",
       "    <tr>\n",
       "      <th>1050</th>\n",
       "      <td>(I am not capable of personal opinions or beli...</td>\n",
       "      <td>The role of zoos in conservation and education...</td>\n",
       "    </tr>\n",
       "    <tr>\n",
       "      <th>1051</th>\n",
       "      <td>In \"The Challenge of Exploring Venus,\" the aut...</td>\n",
       "      <td>In \"The Challenge of Exploring Venus,\" the aut...</td>\n",
       "    </tr>\n",
       "    <tr>\n",
       "      <th>1052</th>\n",
       "      <td>The article \"Making Mona Lisa Smile\" discusses...</td>\n",
       "      <td>In the article \"Making Mona Lisa Smile,\" the a...</td>\n",
       "    </tr>\n",
       "    <tr>\n",
       "      <th>1053</th>\n",
       "      <td>As a grade 6 student, I am still learning abou...</td>\n",
       "      <td>The issue of gun control is a highly contentio...</td>\n",
       "    </tr>\n",
       "    <tr>\n",
       "      <th>1054</th>\n",
       "      <td>Passage 1:\\n\\nCars are one of the main ways in...</td>\n",
       "      <td>Write an explanatory essay to inform fellow ci...</td>\n",
       "    </tr>\n",
       "  </tbody>\n",
       "</table>\n",
       "<p>1055 rows × 2 columns</p>\n",
       "</div>"
      ],
      "text/plain": [
       "                                         generated_text  \\\n",
       "0     Dear Principal,\\n\\nI am writing to express my ...   \n",
       "1     When people are faced with a difficult decisio...   \n",
       "2     As a grade 12 student, I believe that summer p...   \n",
       "3     Dear Principal,\\n\\nI am writing to share my th...   \n",
       "4     \"Making Mona Lisa Smile\" is an interesting art...   \n",
       "...                                                 ...   \n",
       "1050  (I am not capable of personal opinions or beli...   \n",
       "1051  In \"The Challenge of Exploring Venus,\" the aut...   \n",
       "1052  The article \"Making Mona Lisa Smile\" discusses...   \n",
       "1053  As a grade 6 student, I am still learning abou...   \n",
       "1054  Passage 1:\\n\\nCars are one of the main ways in...   \n",
       "\n",
       "                                         writing_prompt  \n",
       "0     Your principal is considering changing school ...  \n",
       "1     When people ask for advice, they sometimes tal...  \n",
       "2     Some schools require students to complete summ...  \n",
       "3     Some of your friends perform community service...  \n",
       "4     In the article \"Making Mona Lisa Smile,\" the a...  \n",
       "...                                                 ...  \n",
       "1050  The role of zoos in conservation and education...  \n",
       "1051  In \"The Challenge of Exploring Venus,\" the aut...  \n",
       "1052  In the article \"Making Mona Lisa Smile,\" the a...  \n",
       "1053  The issue of gun control is a highly contentio...  \n",
       "1054  Write an explanatory essay to inform fellow ci...  \n",
       "\n",
       "[1055 rows x 2 columns]"
      ]
     },
     "execution_count": 24,
     "metadata": {},
     "output_type": "execute_result"
    }
   ],
   "source": [
    "# Dataset\n",
    "d1 = pd.read_csv(\"/kaggle/input/dataset-3/falcon_180b_v1.csv\")\n",
    "d1"
   ]
  },
  {
   "cell_type": "code",
   "execution_count": 25,
   "id": "b1521525",
   "metadata": {
    "execution": {
     "iopub.execute_input": "2023-12-18T08:35:26.520510Z",
     "iopub.status.busy": "2023-12-18T08:35:26.520264Z",
     "iopub.status.idle": "2023-12-18T08:35:26.590493Z",
     "shell.execute_reply": "2023-12-18T08:35:26.589606Z"
    },
    "papermill": {
     "duration": 0.088175,
     "end_time": "2023-12-18T08:35:26.592429",
     "exception": false,
     "start_time": "2023-12-18T08:35:26.504254",
     "status": "completed"
    },
    "tags": []
   },
   "outputs": [
    {
     "data": {
      "text/html": [
       "<div>\n",
       "<style scoped>\n",
       "    .dataframe tbody tr th:only-of-type {\n",
       "        vertical-align: middle;\n",
       "    }\n",
       "\n",
       "    .dataframe tbody tr th {\n",
       "        vertical-align: top;\n",
       "    }\n",
       "\n",
       "    .dataframe thead th {\n",
       "        text-align: right;\n",
       "    }\n",
       "</style>\n",
       "<table border=\"1\" class=\"dataframe\">\n",
       "  <thead>\n",
       "    <tr style=\"text-align: right;\">\n",
       "      <th></th>\n",
       "      <th>generated_text</th>\n",
       "      <th>writing_prompt</th>\n",
       "    </tr>\n",
       "  </thead>\n",
       "  <tbody>\n",
       "    <tr>\n",
       "      <th>0</th>\n",
       "      <td>Dear State Senator,\\n\\nI'm writting to you tod...</td>\n",
       "      <td>Write a letter to your state senator in which ...</td>\n",
       "    </tr>\n",
       "    <tr>\n",
       "      <th>1</th>\n",
       "      <td>Uh, hi! So, like, summers are, like, awesome r...</td>\n",
       "      <td>Some schools require students to complete summ...</td>\n",
       "    </tr>\n",
       "    <tr>\n",
       "      <th>2</th>\n",
       "      <td>When peoples ask for advices, they sometimes t...</td>\n",
       "      <td>When people ask for advice, they sometimes tal...</td>\n",
       "    </tr>\n",
       "    <tr>\n",
       "      <th>3</th>\n",
       "      <td>I think art edukation is super impotent for ki...</td>\n",
       "      <td>Many people believe that arts education is ess...</td>\n",
       "    </tr>\n",
       "    <tr>\n",
       "      <th>4</th>\n",
       "      <td>I think we should totally switch to renewable ...</td>\n",
       "      <td>In recent years, there has been a push towards...</td>\n",
       "    </tr>\n",
       "    <tr>\n",
       "      <th>...</th>\n",
       "      <td>...</td>\n",
       "      <td>...</td>\n",
       "    </tr>\n",
       "    <tr>\n",
       "      <th>1167</th>\n",
       "      <td>Climate change is a really important issue tha...</td>\n",
       "      <td>The issue of climate change has become increas...</td>\n",
       "    </tr>\n",
       "    <tr>\n",
       "      <th>1168</th>\n",
       "      <td>Introduction:\\n\\nDriverless cars, a technology...</td>\n",
       "      <td>In the article “Driverless Cars are Coming,” t...</td>\n",
       "    </tr>\n",
       "    <tr>\n",
       "      <th>1169</th>\n",
       "      <td>Social media has become an integral part of ou...</td>\n",
       "      <td>The impact of social media on society has been...</td>\n",
       "    </tr>\n",
       "    <tr>\n",
       "      <th>1170</th>\n",
       "      <td>Meat, it's something that many of us have grow...</td>\n",
       "      <td>There is a growing movement advocating for the...</td>\n",
       "    </tr>\n",
       "    <tr>\n",
       "      <th>1171</th>\n",
       "      <td>The legalization of marijuana has been a topic...</td>\n",
       "      <td>The legalization of marijuana has been a contr...</td>\n",
       "    </tr>\n",
       "  </tbody>\n",
       "</table>\n",
       "<p>1172 rows × 2 columns</p>\n",
       "</div>"
      ],
      "text/plain": [
       "                                         generated_text  \\\n",
       "0     Dear State Senator,\\n\\nI'm writting to you tod...   \n",
       "1     Uh, hi! So, like, summers are, like, awesome r...   \n",
       "2     When peoples ask for advices, they sometimes t...   \n",
       "3     I think art edukation is super impotent for ki...   \n",
       "4     I think we should totally switch to renewable ...   \n",
       "...                                                 ...   \n",
       "1167  Climate change is a really important issue tha...   \n",
       "1168  Introduction:\\n\\nDriverless cars, a technology...   \n",
       "1169  Social media has become an integral part of ou...   \n",
       "1170  Meat, it's something that many of us have grow...   \n",
       "1171  The legalization of marijuana has been a topic...   \n",
       "\n",
       "                                         writing_prompt  \n",
       "0     Write a letter to your state senator in which ...  \n",
       "1     Some schools require students to complete summ...  \n",
       "2     When people ask for advice, they sometimes tal...  \n",
       "3     Many people believe that arts education is ess...  \n",
       "4     In recent years, there has been a push towards...  \n",
       "...                                                 ...  \n",
       "1167  The issue of climate change has become increas...  \n",
       "1168  In the article “Driverless Cars are Coming,” t...  \n",
       "1169  The impact of social media on society has been...  \n",
       "1170  There is a growing movement advocating for the...  \n",
       "1171  The legalization of marijuana has been a contr...  \n",
       "\n",
       "[1172 rows x 2 columns]"
      ]
     },
     "execution_count": 25,
     "metadata": {},
     "output_type": "execute_result"
    }
   ],
   "source": [
    "# Dataset\n",
    "d2 = pd.read_csv(\"/kaggle/input/dataset-3/llama_70b_v1.csv\")\n",
    "d2"
   ]
  },
  {
   "cell_type": "code",
   "execution_count": 26,
   "id": "557118db",
   "metadata": {
    "execution": {
     "iopub.execute_input": "2023-12-18T08:35:26.624593Z",
     "iopub.status.busy": "2023-12-18T08:35:26.624346Z",
     "iopub.status.idle": "2023-12-18T08:35:26.636263Z",
     "shell.execute_reply": "2023-12-18T08:35:26.635409Z"
    },
    "papermill": {
     "duration": 0.030104,
     "end_time": "2023-12-18T08:35:26.638062",
     "exception": false,
     "start_time": "2023-12-18T08:35:26.607958",
     "status": "completed"
    },
    "tags": []
   },
   "outputs": [
    {
     "data": {
      "text/html": [
       "<div>\n",
       "<style scoped>\n",
       "    .dataframe tbody tr th:only-of-type {\n",
       "        vertical-align: middle;\n",
       "    }\n",
       "\n",
       "    .dataframe tbody tr th {\n",
       "        vertical-align: top;\n",
       "    }\n",
       "\n",
       "    .dataframe thead th {\n",
       "        text-align: right;\n",
       "    }\n",
       "</style>\n",
       "<table border=\"1\" class=\"dataframe\">\n",
       "  <thead>\n",
       "    <tr style=\"text-align: right;\">\n",
       "      <th></th>\n",
       "      <th>text</th>\n",
       "      <th>generated</th>\n",
       "    </tr>\n",
       "  </thead>\n",
       "  <tbody>\n",
       "    <tr>\n",
       "      <th>0</th>\n",
       "      <td>Dear Principal,\\n\\nI am writing to express my ...</td>\n",
       "      <td>1</td>\n",
       "    </tr>\n",
       "    <tr>\n",
       "      <th>1</th>\n",
       "      <td>When people are faced with a difficult decisio...</td>\n",
       "      <td>1</td>\n",
       "    </tr>\n",
       "    <tr>\n",
       "      <th>2</th>\n",
       "      <td>As a grade 12 student, I believe that summer p...</td>\n",
       "      <td>1</td>\n",
       "    </tr>\n",
       "    <tr>\n",
       "      <th>3</th>\n",
       "      <td>Dear Principal,\\n\\nI am writing to share my th...</td>\n",
       "      <td>1</td>\n",
       "    </tr>\n",
       "    <tr>\n",
       "      <th>4</th>\n",
       "      <td>\"Making Mona Lisa Smile\" is an interesting art...</td>\n",
       "      <td>1</td>\n",
       "    </tr>\n",
       "    <tr>\n",
       "      <th>...</th>\n",
       "      <td>...</td>\n",
       "      <td>...</td>\n",
       "    </tr>\n",
       "    <tr>\n",
       "      <th>2222</th>\n",
       "      <td>Climate change is a really important issue tha...</td>\n",
       "      <td>1</td>\n",
       "    </tr>\n",
       "    <tr>\n",
       "      <th>2223</th>\n",
       "      <td>Introduction:\\n\\nDriverless cars, a technology...</td>\n",
       "      <td>1</td>\n",
       "    </tr>\n",
       "    <tr>\n",
       "      <th>2224</th>\n",
       "      <td>Social media has become an integral part of ou...</td>\n",
       "      <td>1</td>\n",
       "    </tr>\n",
       "    <tr>\n",
       "      <th>2225</th>\n",
       "      <td>Meat, it's something that many of us have grow...</td>\n",
       "      <td>1</td>\n",
       "    </tr>\n",
       "    <tr>\n",
       "      <th>2226</th>\n",
       "      <td>The legalization of marijuana has been a topic...</td>\n",
       "      <td>1</td>\n",
       "    </tr>\n",
       "  </tbody>\n",
       "</table>\n",
       "<p>2227 rows × 2 columns</p>\n",
       "</div>"
      ],
      "text/plain": [
       "                                                   text  generated\n",
       "0     Dear Principal,\\n\\nI am writing to express my ...          1\n",
       "1     When people are faced with a difficult decisio...          1\n",
       "2     As a grade 12 student, I believe that summer p...          1\n",
       "3     Dear Principal,\\n\\nI am writing to share my th...          1\n",
       "4     \"Making Mona Lisa Smile\" is an interesting art...          1\n",
       "...                                                 ...        ...\n",
       "2222  Climate change is a really important issue tha...          1\n",
       "2223  Introduction:\\n\\nDriverless cars, a technology...          1\n",
       "2224  Social media has become an integral part of ou...          1\n",
       "2225  Meat, it's something that many of us have grow...          1\n",
       "2226  The legalization of marijuana has been a topic...          1\n",
       "\n",
       "[2227 rows x 2 columns]"
      ]
     },
     "execution_count": 26,
     "metadata": {},
     "output_type": "execute_result"
    }
   ],
   "source": [
    "data = pd.concat([d1,d2],axis=0,ignore_index=True)\n",
    "data['generated'] = 1\n",
    "data.columns = ['text','writing_prompt','generated']\n",
    "data = data[['text','generated']]\n",
    "data"
   ]
  },
  {
   "cell_type": "code",
   "execution_count": 27,
   "id": "d6f8cce6",
   "metadata": {
    "execution": {
     "iopub.execute_input": "2023-12-18T08:35:26.670767Z",
     "iopub.status.busy": "2023-12-18T08:35:26.670485Z",
     "iopub.status.idle": "2023-12-18T08:35:26.682274Z",
     "shell.execute_reply": "2023-12-18T08:35:26.681489Z"
    },
    "papermill": {
     "duration": 0.030355,
     "end_time": "2023-12-18T08:35:26.684084",
     "exception": false,
     "start_time": "2023-12-18T08:35:26.653729",
     "status": "completed"
    },
    "tags": []
   },
   "outputs": [
    {
     "data": {
      "text/html": [
       "<div>\n",
       "<style scoped>\n",
       "    .dataframe tbody tr th:only-of-type {\n",
       "        vertical-align: middle;\n",
       "    }\n",
       "\n",
       "    .dataframe tbody tr th {\n",
       "        vertical-align: top;\n",
       "    }\n",
       "\n",
       "    .dataframe thead th {\n",
       "        text-align: right;\n",
       "    }\n",
       "</style>\n",
       "<table border=\"1\" class=\"dataframe\">\n",
       "  <thead>\n",
       "    <tr style=\"text-align: right;\">\n",
       "      <th></th>\n",
       "      <th>text</th>\n",
       "      <th>generated</th>\n",
       "    </tr>\n",
       "  </thead>\n",
       "  <tbody>\n",
       "    <tr>\n",
       "      <th>0</th>\n",
       "      <td>Cars. Cars have been around since they became ...</td>\n",
       "      <td>0</td>\n",
       "    </tr>\n",
       "    <tr>\n",
       "      <th>1</th>\n",
       "      <td>Transportation is a large necessity in most co...</td>\n",
       "      <td>0</td>\n",
       "    </tr>\n",
       "    <tr>\n",
       "      <th>2</th>\n",
       "      <td>\"America's love affair with it's vehicles seem...</td>\n",
       "      <td>0</td>\n",
       "    </tr>\n",
       "    <tr>\n",
       "      <th>3</th>\n",
       "      <td>How often do you ride in a car? Do you drive a...</td>\n",
       "      <td>0</td>\n",
       "    </tr>\n",
       "    <tr>\n",
       "      <th>4</th>\n",
       "      <td>Cars are a wonderful thing. They are perhaps o...</td>\n",
       "      <td>0</td>\n",
       "    </tr>\n",
       "    <tr>\n",
       "      <th>...</th>\n",
       "      <td>...</td>\n",
       "      <td>...</td>\n",
       "    </tr>\n",
       "    <tr>\n",
       "      <th>67684</th>\n",
       "      <td>Climate change is a really important issue tha...</td>\n",
       "      <td>1</td>\n",
       "    </tr>\n",
       "    <tr>\n",
       "      <th>67685</th>\n",
       "      <td>Introduction:\\n\\nDriverless cars, a technology...</td>\n",
       "      <td>1</td>\n",
       "    </tr>\n",
       "    <tr>\n",
       "      <th>67686</th>\n",
       "      <td>Social media has become an integral part of ou...</td>\n",
       "      <td>1</td>\n",
       "    </tr>\n",
       "    <tr>\n",
       "      <th>67687</th>\n",
       "      <td>Meat, it's something that many of us have grow...</td>\n",
       "      <td>1</td>\n",
       "    </tr>\n",
       "    <tr>\n",
       "      <th>67688</th>\n",
       "      <td>The legalization of marijuana has been a topic...</td>\n",
       "      <td>1</td>\n",
       "    </tr>\n",
       "  </tbody>\n",
       "</table>\n",
       "<p>67689 rows × 2 columns</p>\n",
       "</div>"
      ],
      "text/plain": [
       "                                                    text  generated\n",
       "0      Cars. Cars have been around since they became ...          0\n",
       "1      Transportation is a large necessity in most co...          0\n",
       "2      \"America's love affair with it's vehicles seem...          0\n",
       "3      How often do you ride in a car? Do you drive a...          0\n",
       "4      Cars are a wonderful thing. They are perhaps o...          0\n",
       "...                                                  ...        ...\n",
       "67684  Climate change is a really important issue tha...          1\n",
       "67685  Introduction:\\n\\nDriverless cars, a technology...          1\n",
       "67686  Social media has become an integral part of ou...          1\n",
       "67687  Meat, it's something that many of us have grow...          1\n",
       "67688  The legalization of marijuana has been a topic...          1\n",
       "\n",
       "[67689 rows x 2 columns]"
      ]
     },
     "execution_count": 27,
     "metadata": {},
     "output_type": "execute_result"
    }
   ],
   "source": [
    "Train_Data = pd.concat([train_data,data],axis=0,ignore_index=True)\n",
    "Train_Data"
   ]
  },
  {
   "cell_type": "code",
   "execution_count": 28,
   "id": "88efd0e6",
   "metadata": {
    "execution": {
     "iopub.execute_input": "2023-12-18T08:35:26.717062Z",
     "iopub.status.busy": "2023-12-18T08:35:26.716800Z",
     "iopub.status.idle": "2023-12-18T08:35:26.786473Z",
     "shell.execute_reply": "2023-12-18T08:35:26.785625Z"
    },
    "papermill": {
     "duration": 0.088379,
     "end_time": "2023-12-18T08:35:26.788354",
     "exception": false,
     "start_time": "2023-12-18T08:35:26.699975",
     "status": "completed"
    },
    "tags": []
   },
   "outputs": [
    {
     "data": {
      "text/html": [
       "<div>\n",
       "<style scoped>\n",
       "    .dataframe tbody tr th:only-of-type {\n",
       "        vertical-align: middle;\n",
       "    }\n",
       "\n",
       "    .dataframe tbody tr th {\n",
       "        vertical-align: top;\n",
       "    }\n",
       "\n",
       "    .dataframe thead th {\n",
       "        text-align: right;\n",
       "    }\n",
       "</style>\n",
       "<table border=\"1\" class=\"dataframe\">\n",
       "  <thead>\n",
       "    <tr style=\"text-align: right;\">\n",
       "      <th></th>\n",
       "      <th>id</th>\n",
       "      <th>prompt_id</th>\n",
       "      <th>text</th>\n",
       "      <th>generated</th>\n",
       "    </tr>\n",
       "  </thead>\n",
       "  <tbody>\n",
       "    <tr>\n",
       "      <th>0</th>\n",
       "      <td>0</td>\n",
       "      <td>0.0</td>\n",
       "      <td>## The Advantages of Limiting Car Usage\\n\\nIn ...</td>\n",
       "      <td>1.0</td>\n",
       "    </tr>\n",
       "    <tr>\n",
       "      <th>1</th>\n",
       "      <td>1</td>\n",
       "      <td>0.0</td>\n",
       "      <td>The United States is a car-dependent nation, w...</td>\n",
       "      <td>1.0</td>\n",
       "    </tr>\n",
       "    <tr>\n",
       "      <th>2</th>\n",
       "      <td>2</td>\n",
       "      <td>0.0</td>\n",
       "      <td>In recent years, there has been a growing move...</td>\n",
       "      <td>1.0</td>\n",
       "    </tr>\n",
       "    <tr>\n",
       "      <th>3</th>\n",
       "      <td>3</td>\n",
       "      <td>0.0</td>\n",
       "      <td>In recent years, there has been a growing move...</td>\n",
       "      <td>1.0</td>\n",
       "    </tr>\n",
       "    <tr>\n",
       "      <th>4</th>\n",
       "      <td>4</td>\n",
       "      <td>0.0</td>\n",
       "      <td>In the past few decades, the United States has...</td>\n",
       "      <td>1.0</td>\n",
       "    </tr>\n",
       "    <tr>\n",
       "      <th>...</th>\n",
       "      <td>...</td>\n",
       "      <td>...</td>\n",
       "      <td>...</td>\n",
       "      <td>...</td>\n",
       "    </tr>\n",
       "    <tr>\n",
       "      <th>1379</th>\n",
       "      <td>1379</td>\n",
       "      <td>1.0</td>\n",
       "      <td>Dear Senator,\\n\\nI am writing to you today to ...</td>\n",
       "      <td>1.0</td>\n",
       "    </tr>\n",
       "    <tr>\n",
       "      <th>1380</th>\n",
       "      <td>1380</td>\n",
       "      <td>1.0</td>\n",
       "      <td>Dear Senator,\\n\\nI am writing to you today to ...</td>\n",
       "      <td>1.0</td>\n",
       "    </tr>\n",
       "    <tr>\n",
       "      <th>1381</th>\n",
       "      <td>1381</td>\n",
       "      <td>1.0</td>\n",
       "      <td>Dear Senator,\\n\\nI am writing to you today to ...</td>\n",
       "      <td>1.0</td>\n",
       "    </tr>\n",
       "    <tr>\n",
       "      <th>1382</th>\n",
       "      <td>1382</td>\n",
       "      <td>1.0</td>\n",
       "      <td>Dear Senator,\\n\\nI am writing to you today to ...</td>\n",
       "      <td>1.0</td>\n",
       "    </tr>\n",
       "    <tr>\n",
       "      <th>1383</th>\n",
       "      <td>1383</td>\n",
       "      <td>1.0</td>\n",
       "      <td>Dear Senator,\\n\\nI am writing to you today to ...</td>\n",
       "      <td>1.0</td>\n",
       "    </tr>\n",
       "  </tbody>\n",
       "</table>\n",
       "<p>1384 rows × 4 columns</p>\n",
       "</div>"
      ],
      "text/plain": [
       "        id  prompt_id                                               text  \\\n",
       "0        0        0.0  ## The Advantages of Limiting Car Usage\\n\\nIn ...   \n",
       "1        1        0.0  The United States is a car-dependent nation, w...   \n",
       "2        2        0.0  In recent years, there has been a growing move...   \n",
       "3        3        0.0  In recent years, there has been a growing move...   \n",
       "4        4        0.0  In the past few decades, the United States has...   \n",
       "...    ...        ...                                                ...   \n",
       "1379  1379        1.0  Dear Senator,\\n\\nI am writing to you today to ...   \n",
       "1380  1380        1.0  Dear Senator,\\n\\nI am writing to you today to ...   \n",
       "1381  1381        1.0  Dear Senator,\\n\\nI am writing to you today to ...   \n",
       "1382  1382        1.0  Dear Senator,\\n\\nI am writing to you today to ...   \n",
       "1383  1383        1.0  Dear Senator,\\n\\nI am writing to you today to ...   \n",
       "\n",
       "      generated  \n",
       "0           1.0  \n",
       "1           1.0  \n",
       "2           1.0  \n",
       "3           1.0  \n",
       "4           1.0  \n",
       "...         ...  \n",
       "1379        1.0  \n",
       "1380        1.0  \n",
       "1381        1.0  \n",
       "1382        1.0  \n",
       "1383        1.0  \n",
       "\n",
       "[1384 rows x 4 columns]"
      ]
     },
     "execution_count": 28,
     "metadata": {},
     "output_type": "execute_result"
    }
   ],
   "source": [
    "d = pd.read_csv(\"/kaggle/input/dataset-3/LLM_generated_essay_PaLM.csv\")\n",
    "d"
   ]
  },
  {
   "cell_type": "code",
   "execution_count": 29,
   "id": "9cab32e1",
   "metadata": {
    "execution": {
     "iopub.execute_input": "2023-12-18T08:35:26.823101Z",
     "iopub.status.busy": "2023-12-18T08:35:26.822819Z",
     "iopub.status.idle": "2023-12-18T08:35:26.827384Z",
     "shell.execute_reply": "2023-12-18T08:35:26.826648Z"
    },
    "papermill": {
     "duration": 0.024202,
     "end_time": "2023-12-18T08:35:26.829261",
     "exception": false,
     "start_time": "2023-12-18T08:35:26.805059",
     "status": "completed"
    },
    "tags": []
   },
   "outputs": [],
   "source": [
    "d['generated'] = d['generated'].astype(int)"
   ]
  },
  {
   "cell_type": "code",
   "execution_count": 30,
   "id": "ddc0cfdc",
   "metadata": {
    "execution": {
     "iopub.execute_input": "2023-12-18T08:35:26.862245Z",
     "iopub.status.busy": "2023-12-18T08:35:26.861997Z",
     "iopub.status.idle": "2023-12-18T08:35:26.872976Z",
     "shell.execute_reply": "2023-12-18T08:35:26.872135Z"
    },
    "papermill": {
     "duration": 0.029775,
     "end_time": "2023-12-18T08:35:26.875025",
     "exception": false,
     "start_time": "2023-12-18T08:35:26.845250",
     "status": "completed"
    },
    "tags": []
   },
   "outputs": [
    {
     "data": {
      "text/html": [
       "<div>\n",
       "<style scoped>\n",
       "    .dataframe tbody tr th:only-of-type {\n",
       "        vertical-align: middle;\n",
       "    }\n",
       "\n",
       "    .dataframe tbody tr th {\n",
       "        vertical-align: top;\n",
       "    }\n",
       "\n",
       "    .dataframe thead th {\n",
       "        text-align: right;\n",
       "    }\n",
       "</style>\n",
       "<table border=\"1\" class=\"dataframe\">\n",
       "  <thead>\n",
       "    <tr style=\"text-align: right;\">\n",
       "      <th></th>\n",
       "      <th>text</th>\n",
       "      <th>generated</th>\n",
       "    </tr>\n",
       "  </thead>\n",
       "  <tbody>\n",
       "    <tr>\n",
       "      <th>0</th>\n",
       "      <td>## The Advantages of Limiting Car Usage\\n\\nIn ...</td>\n",
       "      <td>1</td>\n",
       "    </tr>\n",
       "    <tr>\n",
       "      <th>1</th>\n",
       "      <td>The United States is a car-dependent nation, w...</td>\n",
       "      <td>1</td>\n",
       "    </tr>\n",
       "    <tr>\n",
       "      <th>2</th>\n",
       "      <td>In recent years, there has been a growing move...</td>\n",
       "      <td>1</td>\n",
       "    </tr>\n",
       "    <tr>\n",
       "      <th>3</th>\n",
       "      <td>In recent years, there has been a growing move...</td>\n",
       "      <td>1</td>\n",
       "    </tr>\n",
       "    <tr>\n",
       "      <th>4</th>\n",
       "      <td>In the past few decades, the United States has...</td>\n",
       "      <td>1</td>\n",
       "    </tr>\n",
       "    <tr>\n",
       "      <th>...</th>\n",
       "      <td>...</td>\n",
       "      <td>...</td>\n",
       "    </tr>\n",
       "    <tr>\n",
       "      <th>1379</th>\n",
       "      <td>Dear Senator,\\n\\nI am writing to you today to ...</td>\n",
       "      <td>1</td>\n",
       "    </tr>\n",
       "    <tr>\n",
       "      <th>1380</th>\n",
       "      <td>Dear Senator,\\n\\nI am writing to you today to ...</td>\n",
       "      <td>1</td>\n",
       "    </tr>\n",
       "    <tr>\n",
       "      <th>1381</th>\n",
       "      <td>Dear Senator,\\n\\nI am writing to you today to ...</td>\n",
       "      <td>1</td>\n",
       "    </tr>\n",
       "    <tr>\n",
       "      <th>1382</th>\n",
       "      <td>Dear Senator,\\n\\nI am writing to you today to ...</td>\n",
       "      <td>1</td>\n",
       "    </tr>\n",
       "    <tr>\n",
       "      <th>1383</th>\n",
       "      <td>Dear Senator,\\n\\nI am writing to you today to ...</td>\n",
       "      <td>1</td>\n",
       "    </tr>\n",
       "  </tbody>\n",
       "</table>\n",
       "<p>1384 rows × 2 columns</p>\n",
       "</div>"
      ],
      "text/plain": [
       "                                                   text  generated\n",
       "0     ## The Advantages of Limiting Car Usage\\n\\nIn ...          1\n",
       "1     The United States is a car-dependent nation, w...          1\n",
       "2     In recent years, there has been a growing move...          1\n",
       "3     In recent years, there has been a growing move...          1\n",
       "4     In the past few decades, the United States has...          1\n",
       "...                                                 ...        ...\n",
       "1379  Dear Senator,\\n\\nI am writing to you today to ...          1\n",
       "1380  Dear Senator,\\n\\nI am writing to you today to ...          1\n",
       "1381  Dear Senator,\\n\\nI am writing to you today to ...          1\n",
       "1382  Dear Senator,\\n\\nI am writing to you today to ...          1\n",
       "1383  Dear Senator,\\n\\nI am writing to you today to ...          1\n",
       "\n",
       "[1384 rows x 2 columns]"
      ]
     },
     "execution_count": 30,
     "metadata": {},
     "output_type": "execute_result"
    }
   ],
   "source": [
    "dd = d[['text','generated']]\n",
    "dd"
   ]
  },
  {
   "cell_type": "code",
   "execution_count": 31,
   "id": "d9d4b699",
   "metadata": {
    "execution": {
     "iopub.execute_input": "2023-12-18T08:35:26.910646Z",
     "iopub.status.busy": "2023-12-18T08:35:26.910126Z",
     "iopub.status.idle": "2023-12-18T08:35:26.921450Z",
     "shell.execute_reply": "2023-12-18T08:35:26.920659Z"
    },
    "papermill": {
     "duration": 0.030488,
     "end_time": "2023-12-18T08:35:26.923250",
     "exception": false,
     "start_time": "2023-12-18T08:35:26.892762",
     "status": "completed"
    },
    "tags": []
   },
   "outputs": [
    {
     "data": {
      "text/html": [
       "<div>\n",
       "<style scoped>\n",
       "    .dataframe tbody tr th:only-of-type {\n",
       "        vertical-align: middle;\n",
       "    }\n",
       "\n",
       "    .dataframe tbody tr th {\n",
       "        vertical-align: top;\n",
       "    }\n",
       "\n",
       "    .dataframe thead th {\n",
       "        text-align: right;\n",
       "    }\n",
       "</style>\n",
       "<table border=\"1\" class=\"dataframe\">\n",
       "  <thead>\n",
       "    <tr style=\"text-align: right;\">\n",
       "      <th></th>\n",
       "      <th>text</th>\n",
       "      <th>generated</th>\n",
       "    </tr>\n",
       "  </thead>\n",
       "  <tbody>\n",
       "    <tr>\n",
       "      <th>0</th>\n",
       "      <td>Cars. Cars have been around since they became ...</td>\n",
       "      <td>0</td>\n",
       "    </tr>\n",
       "    <tr>\n",
       "      <th>1</th>\n",
       "      <td>Transportation is a large necessity in most co...</td>\n",
       "      <td>0</td>\n",
       "    </tr>\n",
       "    <tr>\n",
       "      <th>2</th>\n",
       "      <td>\"America's love affair with it's vehicles seem...</td>\n",
       "      <td>0</td>\n",
       "    </tr>\n",
       "    <tr>\n",
       "      <th>3</th>\n",
       "      <td>How often do you ride in a car? Do you drive a...</td>\n",
       "      <td>0</td>\n",
       "    </tr>\n",
       "    <tr>\n",
       "      <th>4</th>\n",
       "      <td>Cars are a wonderful thing. They are perhaps o...</td>\n",
       "      <td>0</td>\n",
       "    </tr>\n",
       "    <tr>\n",
       "      <th>...</th>\n",
       "      <td>...</td>\n",
       "      <td>...</td>\n",
       "    </tr>\n",
       "    <tr>\n",
       "      <th>69068</th>\n",
       "      <td>Dear Senator,\\n\\nI am writing to you today to ...</td>\n",
       "      <td>1</td>\n",
       "    </tr>\n",
       "    <tr>\n",
       "      <th>69069</th>\n",
       "      <td>Dear Senator,\\n\\nI am writing to you today to ...</td>\n",
       "      <td>1</td>\n",
       "    </tr>\n",
       "    <tr>\n",
       "      <th>69070</th>\n",
       "      <td>Dear Senator,\\n\\nI am writing to you today to ...</td>\n",
       "      <td>1</td>\n",
       "    </tr>\n",
       "    <tr>\n",
       "      <th>69071</th>\n",
       "      <td>Dear Senator,\\n\\nI am writing to you today to ...</td>\n",
       "      <td>1</td>\n",
       "    </tr>\n",
       "    <tr>\n",
       "      <th>69072</th>\n",
       "      <td>Dear Senator,\\n\\nI am writing to you today to ...</td>\n",
       "      <td>1</td>\n",
       "    </tr>\n",
       "  </tbody>\n",
       "</table>\n",
       "<p>69073 rows × 2 columns</p>\n",
       "</div>"
      ],
      "text/plain": [
       "                                                    text  generated\n",
       "0      Cars. Cars have been around since they became ...          0\n",
       "1      Transportation is a large necessity in most co...          0\n",
       "2      \"America's love affair with it's vehicles seem...          0\n",
       "3      How often do you ride in a car? Do you drive a...          0\n",
       "4      Cars are a wonderful thing. They are perhaps o...          0\n",
       "...                                                  ...        ...\n",
       "69068  Dear Senator,\\n\\nI am writing to you today to ...          1\n",
       "69069  Dear Senator,\\n\\nI am writing to you today to ...          1\n",
       "69070  Dear Senator,\\n\\nI am writing to you today to ...          1\n",
       "69071  Dear Senator,\\n\\nI am writing to you today to ...          1\n",
       "69072  Dear Senator,\\n\\nI am writing to you today to ...          1\n",
       "\n",
       "[69073 rows x 2 columns]"
      ]
     },
     "execution_count": 31,
     "metadata": {},
     "output_type": "execute_result"
    }
   ],
   "source": [
    "Train_Data  =pd.concat([Train_Data,dd],axis=0,ignore_index=True)\n",
    "Train_Data"
   ]
  },
  {
   "cell_type": "code",
   "execution_count": 32,
   "id": "abb11a26",
   "metadata": {
    "execution": {
     "iopub.execute_input": "2023-12-18T08:35:26.958079Z",
     "iopub.status.busy": "2023-12-18T08:35:26.957837Z",
     "iopub.status.idle": "2023-12-18T08:35:27.056399Z",
     "shell.execute_reply": "2023-12-18T08:35:27.055555Z"
    },
    "papermill": {
     "duration": 0.120411,
     "end_time": "2023-12-18T08:35:27.060270",
     "exception": false,
     "start_time": "2023-12-18T08:35:26.939859",
     "status": "completed"
    },
    "tags": []
   },
   "outputs": [
    {
     "data": {
      "image/png": "[encoded data removed]",
      "text/plain": [
       "<Figure size 640x480 with 1 Axes>"
      ]
     },
     "metadata": {},
     "output_type": "display_data"
    }
   ],
   "source": [
    "Train_Data.generated.value_counts().plot(kind='pie',autopct=\"%.1f%%\")\n",
    "plt.title(\"Target Column Distributions\")\n",
    "plt.show()"
   ]
  },
  {
   "cell_type": "code",
   "execution_count": 33,
   "id": "5f0f15d4",
   "metadata": {
    "execution": {
     "iopub.execute_input": "2023-12-18T08:35:27.148308Z",
     "iopub.status.busy": "2023-12-18T08:35:27.147828Z",
     "iopub.status.idle": "2023-12-18T08:35:27.166882Z",
     "shell.execute_reply": "2023-12-18T08:35:27.165974Z"
    },
    "papermill": {
     "duration": 0.065607,
     "end_time": "2023-12-18T08:35:27.168890",
     "exception": false,
     "start_time": "2023-12-18T08:35:27.103283",
     "status": "completed"
    },
    "tags": []
   },
   "outputs": [
    {
     "name": "stdout",
     "output_type": "stream",
     "text": [
      "(68658,)\n",
      "(415,)\n",
      "(68658,)\n",
      "(415,)\n"
     ]
    }
   ],
   "source": [
    "x_train,x_test,y_train,y_test=train_test_split(Train_Data.text,Train_Data.generated,test_size=0.006,shuffle=True)\n",
    "print(x_train.shape)\n",
    "print(x_test.shape)\n",
    "print(y_train.shape)\n",
    "print(y_test.shape)"
   ]
  },
  {
   "cell_type": "code",
   "execution_count": 34,
   "id": "260650e8",
   "metadata": {
    "execution": {
     "iopub.execute_input": "2023-12-18T08:35:27.207074Z",
     "iopub.status.busy": "2023-12-18T08:35:27.206403Z",
     "iopub.status.idle": "2023-12-18T08:35:27.213277Z",
     "shell.execute_reply": "2023-12-18T08:35:27.212418Z"
    },
    "papermill": {
     "duration": 0.028681,
     "end_time": "2023-12-18T08:35:27.215365",
     "exception": false,
     "start_time": "2023-12-18T08:35:27.186684",
     "status": "completed"
    },
    "tags": []
   },
   "outputs": [
    {
     "data": {
      "text/plain": [
       "42613     Students and their families should carefully ...\n",
       "47380    Many students become participated in extracurr...\n",
       "5448     \"The Challenge of Exploring Venus\" talks about...\n",
       "6944     In the story The Challenge of Exploring Venus ...\n",
       "64816    Life is full of unexpected events, and no matt...\n",
       "                               ...                        \n",
       "36581    I think schools shuldnt have meditation and mi...\n",
       "28807    Hey there!  So, like, you know how school menu...\n",
       "25486    Working in groups in the classroom has numerou...\n",
       "17362    Luke's point of view on convincing people to g...\n",
       "26955    Children deserve their own free time. Making e...\n",
       "Name: text, Length: 68658, dtype: object"
      ]
     },
     "execution_count": 34,
     "metadata": {},
     "output_type": "execute_result"
    }
   ],
   "source": [
    "x_train"
   ]
  },
  {
   "cell_type": "code",
   "execution_count": 35,
   "id": "721f503d",
   "metadata": {
    "execution": {
     "iopub.execute_input": "2023-12-18T08:35:27.251514Z",
     "iopub.status.busy": "2023-12-18T08:35:27.251256Z",
     "iopub.status.idle": "2023-12-18T08:35:46.872937Z",
     "shell.execute_reply": "2023-12-18T08:35:46.871969Z"
    },
    "papermill": {
     "duration": 19.644673,
     "end_time": "2023-12-18T08:35:46.877609",
     "exception": false,
     "start_time": "2023-12-18T08:35:27.232936",
     "status": "completed"
    },
    "tags": []
   },
   "outputs": [
    {
     "name": "stdout",
     "output_type": "stream",
     "text": [
      "Model: \"model\"\n",
      "__________________________________________________________________________________________________\n",
      " Layer (type)                Output Shape                 Param #   Connected to                  \n",
      "==================================================================================================\n",
      " input (InputLayer)          [(None,)]                    0         []                            \n",
      "                                                                                                  \n",
      " keras_layer (KerasLayer)    {'input_word_ids': (None,    0         ['input[0][0]']               \n",
      "                             128),                                                                \n",
      "                              'input_type_ids': (None,                                            \n",
      "                             128),                                                                \n",
      "                              'input_mask': (None, 128)                                           \n",
      "                             }                                                                    \n",
      "                                                                                                  \n",
      " keras_layer_1 (KerasLayer)  {'sequence_output': (None,   1094822   ['keras_layer[0][0]',         \n",
      "                              128, 768),                  41         'keras_layer[0][1]',         \n",
      "                              'pooled_output': (None, 7              'keras_layer[0][2]']         \n",
      "                             68),                                                                 \n",
      "                              'encoder_outputs': [(None                                           \n",
      "                             , 128, 768),                                                         \n",
      "                              (None, 128, 768),                                                   \n",
      "                              (None, 128, 768),                                                   \n",
      "                              (None, 128, 768),                                                   \n",
      "                              (None, 128, 768),                                                   \n",
      "                              (None, 128, 768),                                                   \n",
      "                              (None, 128, 768),                                                   \n",
      "                              (None, 128, 768),                                                   \n",
      "                              (None, 128, 768),                                                   \n",
      "                              (None, 128, 768),                                                   \n",
      "                              (None, 128, 768),                                                   \n",
      "                              (None, 128, 768)],                                                  \n",
      "                              'default': (None, 768)}                                             \n",
      "                                                                                                  \n",
      " dropout (Dropout)           (None, 768)                  0         ['keras_layer_1[0][13]']      \n",
      "                                                                                                  \n",
      " output (Dense)              (None, 1)                    769       ['dropout[0][0]']             \n",
      "                                                                                                  \n",
      "==================================================================================================\n",
      "Total params: 109483010 (417.64 MB)\n",
      "Trainable params: 769 (3.00 KB)\n",
      "Non-trainable params: 109482241 (417.64 MB)\n",
      "__________________________________________________________________________________________________\n"
     ]
    }
   ],
   "source": [
    "path =\"/kaggle/input/bert/tensorflow2/bert-en-uncased-l-12-h-768-a-12/2\"\n",
    "\n",
    "## Create Model\n",
    "## BERT Preprocess Data\n",
    "text_input = tf.keras.layers.Input(shape=(), dtype=tf.string , name='input')\n",
    "bert_preprocess = hub.KerasLayer(\"/kaggle/input/bert/tensorflow2/en-uncased-preprocess/3\")\n",
    "preprocessed_text = bert_preprocess(text_input)\n",
    "\n",
    "## Use BERT Model\n",
    "bert_encoder = hub.KerasLayer(\"/kaggle/input/bert/tensorflow2/bert-en-uncased-l-12-h-768-a-12/2\")\n",
    "outputs = bert_encoder(preprocessed_text)\n",
    "net = outputs['pooled_output']\n",
    "\n",
    "l = tf.keras.layers.Dropout(0.1 , name=\"dropout\")(net)\n",
    "d = tf.keras.layers.Dense(1 , activation='sigmoid' , name='output')(l)\n",
    "\n",
    "model = tf.keras.Model(inputs=[text_input] , outputs=[d])\n",
    "\n",
    "model.summary()"
   ]
  },
  {
   "cell_type": "code",
   "execution_count": 36,
   "id": "4e540da1",
   "metadata": {
    "execution": {
     "iopub.execute_input": "2023-12-18T08:35:46.920111Z",
     "iopub.status.busy": "2023-12-18T08:35:46.919823Z",
     "iopub.status.idle": "2023-12-18T10:59:14.217031Z",
     "shell.execute_reply": "2023-12-18T10:59:14.216235Z"
    },
    "papermill": {
     "duration": 8607.320742,
     "end_time": "2023-12-18T10:59:14.219082",
     "exception": false,
     "start_time": "2023-12-18T08:35:46.898340",
     "status": "completed"
    },
    "tags": []
   },
   "outputs": [
    {
     "name": "stdout",
     "output_type": "stream",
     "text": [
      "Epoch 1/7\n",
      "269/269 [==============================] - 1235s 5s/step - loss: 0.4007 - accuracy: 0.8342 - val_loss: 0.3172 - val_accuracy: 0.8843\n",
      "Epoch 2/7\n",
      "269/269 [==============================] - 1229s 5s/step - loss: 0.3057 - accuracy: 0.8756 - val_loss: 0.2732 - val_accuracy: 0.9036\n",
      "Epoch 3/7\n",
      "269/269 [==============================] - 1228s 5s/step - loss: 0.2800 - accuracy: 0.8868 - val_loss: 0.2490 - val_accuracy: 0.9108\n",
      "Epoch 4/7\n",
      "269/269 [==============================] - 1228s 5s/step - loss: 0.2644 - accuracy: 0.8946 - val_loss: 0.2409 - val_accuracy: 0.9060\n",
      "Epoch 5/7\n",
      "269/269 [==============================] - 1229s 5s/step - loss: 0.2537 - accuracy: 0.8982 - val_loss: 0.2242 - val_accuracy: 0.9108\n",
      "Epoch 6/7\n",
      "269/269 [==============================] - 1228s 5s/step - loss: 0.2476 - accuracy: 0.9017 - val_loss: 0.2165 - val_accuracy: 0.9157\n",
      "Epoch 7/7\n",
      "269/269 [==============================] - 1228s 5s/step - loss: 0.2429 - accuracy: 0.9045 - val_loss: 0.2119 - val_accuracy: 0.9133\n"
     ]
    }
   ],
   "source": [
    "model.compile(optimizer='adam', loss='binary_crossentropy',metrics=[\"accuracy\"])\n",
    "history = model.fit(x_train, y_train , batch_size=256 , epochs=7 , validation_data=(x_test, y_test))"
   ]
  },
  {
   "cell_type": "code",
   "execution_count": 37,
   "id": "25e5d7df",
   "metadata": {
    "execution": {
     "iopub.execute_input": "2023-12-18T10:59:14.557474Z",
     "iopub.status.busy": "2023-12-18T10:59:14.557079Z",
     "iopub.status.idle": "2023-12-18T10:59:14.561322Z",
     "shell.execute_reply": "2023-12-18T10:59:14.560458Z"
    },
    "papermill": {
     "duration": 0.173425,
     "end_time": "2023-12-18T10:59:14.563139",
     "exception": false,
     "start_time": "2023-12-18T10:59:14.389714",
     "status": "completed"
    },
    "tags": []
   },
   "outputs": [],
   "source": [
    "#loss , acc = model.evaluate(x_train, y_train)\n",
    "#print(\"Accuracy on Train data:\",acc)\n",
    "#loss , acc = model.evaluate(x_test, y_test)\n",
    "#print(\"Accuracy on Test data:\",acc)"
   ]
  },
  {
   "cell_type": "code",
   "execution_count": 38,
   "id": "254bdf48",
   "metadata": {
    "execution": {
     "iopub.execute_input": "2023-12-18T10:59:14.895165Z",
     "iopub.status.busy": "2023-12-18T10:59:14.894638Z",
     "iopub.status.idle": "2023-12-18T10:59:27.472449Z",
     "shell.execute_reply": "2023-12-18T10:59:27.471465Z"
    },
    "papermill": {
     "duration": 12.745967,
     "end_time": "2023-12-18T10:59:27.475030",
     "exception": false,
     "start_time": "2023-12-18T10:59:14.729063",
     "status": "completed"
    },
    "tags": []
   },
   "outputs": [],
   "source": [
    "model.save(\"my_model\")"
   ]
  },
  {
   "cell_type": "code",
   "execution_count": 39,
   "id": "a19aac30",
   "metadata": {
    "execution": {
     "iopub.execute_input": "2023-12-18T10:59:27.866952Z",
     "iopub.status.busy": "2023-12-18T10:59:27.866571Z",
     "iopub.status.idle": "2023-12-18T10:59:27.875730Z",
     "shell.execute_reply": "2023-12-18T10:59:27.874844Z"
    },
    "papermill": {
     "duration": 0.178319,
     "end_time": "2023-12-18T10:59:27.877594",
     "exception": false,
     "start_time": "2023-12-18T10:59:27.699275",
     "status": "completed"
    },
    "tags": []
   },
   "outputs": [
    {
     "data": {
      "text/html": [
       "<div>\n",
       "<style scoped>\n",
       "    .dataframe tbody tr th:only-of-type {\n",
       "        vertical-align: middle;\n",
       "    }\n",
       "\n",
       "    .dataframe tbody tr th {\n",
       "        vertical-align: top;\n",
       "    }\n",
       "\n",
       "    .dataframe thead th {\n",
       "        text-align: right;\n",
       "    }\n",
       "</style>\n",
       "<table border=\"1\" class=\"dataframe\">\n",
       "  <thead>\n",
       "    <tr style=\"text-align: right;\">\n",
       "      <th></th>\n",
       "      <th>id</th>\n",
       "      <th>prompt_id</th>\n",
       "      <th>text</th>\n",
       "    </tr>\n",
       "  </thead>\n",
       "  <tbody>\n",
       "    <tr>\n",
       "      <th>0</th>\n",
       "      <td>0000aaaa</td>\n",
       "      <td>2</td>\n",
       "      <td>Aaa bbb ccc.</td>\n",
       "    </tr>\n",
       "    <tr>\n",
       "      <th>1</th>\n",
       "      <td>1111bbbb</td>\n",
       "      <td>3</td>\n",
       "      <td>Bbb ccc ddd.</td>\n",
       "    </tr>\n",
       "    <tr>\n",
       "      <th>2</th>\n",
       "      <td>2222cccc</td>\n",
       "      <td>4</td>\n",
       "      <td>CCC ddd eee.</td>\n",
       "    </tr>\n",
       "  </tbody>\n",
       "</table>\n",
       "</div>"
      ],
      "text/plain": [
       "         id  prompt_id          text\n",
       "0  0000aaaa          2  Aaa bbb ccc.\n",
       "1  1111bbbb          3  Bbb ccc ddd.\n",
       "2  2222cccc          4  CCC ddd eee."
      ]
     },
     "execution_count": 39,
     "metadata": {},
     "output_type": "execute_result"
    }
   ],
   "source": [
    "test_essay"
   ]
  },
  {
   "cell_type": "code",
   "execution_count": 40,
   "id": "20915ff9",
   "metadata": {
    "execution": {
     "iopub.execute_input": "2023-12-18T10:59:28.214529Z",
     "iopub.status.busy": "2023-12-18T10:59:28.214230Z",
     "iopub.status.idle": "2023-12-18T10:59:29.131403Z",
     "shell.execute_reply": "2023-12-18T10:59:29.130606Z"
    },
    "papermill": {
     "duration": 1.090167,
     "end_time": "2023-12-18T10:59:29.133362",
     "exception": false,
     "start_time": "2023-12-18T10:59:28.043195",
     "status": "completed"
    },
    "tags": []
   },
   "outputs": [
    {
     "name": "stdout",
     "output_type": "stream",
     "text": [
      "1/1 [==============================] - 1s 838ms/step\n"
     ]
    }
   ],
   "source": [
    "y_pred = model.predict(test_essay['text'])"
   ]
  },
  {
   "cell_type": "code",
   "execution_count": 41,
   "id": "4119af8d",
   "metadata": {
    "execution": {
     "iopub.execute_input": "2023-12-18T10:59:29.471834Z",
     "iopub.status.busy": "2023-12-18T10:59:29.471459Z",
     "iopub.status.idle": "2023-12-18T10:59:29.477438Z",
     "shell.execute_reply": "2023-12-18T10:59:29.476593Z"
    },
    "papermill": {
     "duration": 0.176525,
     "end_time": "2023-12-18T10:59:29.479359",
     "exception": false,
     "start_time": "2023-12-18T10:59:29.302834",
     "status": "completed"
    },
    "tags": []
   },
   "outputs": [
    {
     "data": {
      "text/plain": [
       "array([[0.1184279 ],\n",
       "       [0.00977272],\n",
       "       [0.0170719 ]], dtype=float32)"
      ]
     },
     "execution_count": 41,
     "metadata": {},
     "output_type": "execute_result"
    }
   ],
   "source": [
    "y_pred"
   ]
  },
  {
   "cell_type": "code",
   "execution_count": 42,
   "id": "9469fa1e",
   "metadata": {
    "execution": {
     "iopub.execute_input": "2023-12-18T10:59:29.817792Z",
     "iopub.status.busy": "2023-12-18T10:59:29.817421Z",
     "iopub.status.idle": "2023-12-18T10:59:29.823452Z",
     "shell.execute_reply": "2023-12-18T10:59:29.822705Z"
    },
    "papermill": {
     "duration": 0.177618,
     "end_time": "2023-12-18T10:59:29.825333",
     "exception": false,
     "start_time": "2023-12-18T10:59:29.647715",
     "status": "completed"
    },
    "tags": []
   },
   "outputs": [
    {
     "data": {
      "text/plain": [
       "array([0.1184279 , 0.00977272, 0.0170719 ], dtype=float32)"
      ]
     },
     "execution_count": 42,
     "metadata": {},
     "output_type": "execute_result"
    }
   ],
   "source": [
    "y_pred[:,0]"
   ]
  },
  {
   "cell_type": "code",
   "execution_count": 43,
   "id": "5eeede0d",
   "metadata": {
    "execution": {
     "iopub.execute_input": "2023-12-18T10:59:30.164022Z",
     "iopub.status.busy": "2023-12-18T10:59:30.163350Z",
     "iopub.status.idle": "2023-12-18T10:59:30.173062Z",
     "shell.execute_reply": "2023-12-18T10:59:30.172336Z"
    },
    "papermill": {
     "duration": 0.181293,
     "end_time": "2023-12-18T10:59:30.175036",
     "exception": false,
     "start_time": "2023-12-18T10:59:29.993743",
     "status": "completed"
    },
    "tags": []
   },
   "outputs": [],
   "source": [
    "# Assuming 'test_ids' are the IDs of test samples, and 'predictions' are the predicted values\n",
    "submission = pd.DataFrame({'id': test_essay['id'] , 'generated': y_pred[:,0] })\n",
    "submission.to_csv('submission.csv', index=False)  # Save the CSV file"
   ]
  }
 ],
 "metadata": {
  "kaggle": {
   "accelerator": "nvidiaTeslaT4",
   "dataSources": [
    {
     "databundleVersionId": 6888007,
     "sourceId": 61542,
     "sourceType": "competition"
    },
    {
     "datasetId": 4166484,
     "sourceId": 7202521,
     "sourceType": "datasetVersion"
    },
    {
     "datasetId": 4166523,
     "sourceId": 7202572,
     "sourceType": "datasetVersion"
    },
    {
     "datasetId": 4166560,
     "sourceId": 7202633,
     "sourceType": "datasetVersion"
    },
    {
     "datasetId": 4184739,
     "sourceId": 7228308,
     "sourceType": "datasetVersion"
    },
    {
     "modelInstanceId": 1910,
     "sourceId": 2644,
     "sourceType": "modelInstanceVersion"
    },
    {
     "modelInstanceId": 2180,
     "sourceId": 2938,
     "sourceType": "modelInstanceVersion"
    }
   ],
   "dockerImageVersionId": 30627,
   "isGpuEnabled": true,
   "isInternetEnabled": false,
   "language": "python",
   "sourceType": "notebook"
  },
  "kernelspec": {
   "display_name": "Python 3",
   "language": "python",
   "name": "python3"
  },
  "language_info": {
   "codemirror_mode": {
    "name": "ipython",
    "version": 3
   },
   "file_extension": ".py",
   "mimetype": "text/x-python",
   "name": "python",
   "nbconvert_exporter": "python",
   "pygments_lexer": "ipython3",
   "version": "3.10.12"
  },
  "papermill": {
   "default_parameters": {},
   "duration": 8672.390007,
   "end_time": "2023-12-18T10:59:34.206773",
   "environment_variables": {},
   "exception": null,
   "input_path": "__notebook__.ipynb",
   "output_path": "__notebook__.ipynb",
   "parameters": {},
   "start_time": "2023-12-18T08:35:01.816766",
   "version": "2.4.0"
  }
 },
 "nbformat": 4,
 "nbformat_minor": 5
}
